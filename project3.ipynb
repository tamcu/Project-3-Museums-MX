{
 "cells": [
  {
   "cell_type": "markdown",
   "id": "064ef857",
   "metadata": {},
   "source": [
    "## Part 1: Database and Jupyter Notebook Set Up"
   ]
  },
  {
   "cell_type": "code",
   "execution_count": 1,
   "id": "3ecdd008",
   "metadata": {},
   "outputs": [],
   "source": [
    "# Import dependencies\n",
    "from pymongo import MongoClient\n",
    "from pprint import pprint\n",
    "import pandas as pd"
   ]
  },
  {
   "cell_type": "code",
   "execution_count": 2,
   "id": "59390c4a",
   "metadata": {},
   "outputs": [],
   "source": [
    "# Create an instance of MongoClient\n",
    "mongo = MongoClient(port=27017)"
   ]
  },
  {
   "cell_type": "code",
   "execution_count": 3,
   "id": "7f9ececa",
   "metadata": {},
   "outputs": [
    {
     "name": "stdout",
     "output_type": "stream",
     "text": [
      "['Project3',\n",
      " 'admin',\n",
      " 'autosaurus',\n",
      " 'config',\n",
      " 'epa',\n",
      " 'local',\n",
      " 'met',\n",
      " 'petsitly_marketing',\n",
      " 'travel_db',\n",
      " 'uk_food']\n"
     ]
    }
   ],
   "source": [
    "# confirm that our new database was created\n",
    "pprint(mongo.list_database_names())"
   ]
  },
  {
   "cell_type": "code",
   "execution_count": 4,
   "id": "71e373c1",
   "metadata": {},
   "outputs": [],
   "source": [
    "# assign the uk_food database to a variable name\n",
    "db = mongo['Project3']"
   ]
  },
  {
   "cell_type": "code",
   "execution_count": 5,
   "id": "ef1b89ed",
   "metadata": {},
   "outputs": [
    {
     "data": {
      "text/plain": [
       "['MuseosMX']"
      ]
     },
     "execution_count": 5,
     "metadata": {},
     "output_type": "execute_result"
    }
   ],
   "source": [
    "# review the collections in our new database\n",
    "db.list_collection_names()"
   ]
  },
  {
   "cell_type": "code",
   "execution_count": 6,
   "id": "6a0d92df",
   "metadata": {},
   "outputs": [
    {
     "name": "stdout",
     "output_type": "stream",
     "text": [
      "{'_id': ObjectId('65a7307e6539824ece694f59'),\n",
      " 'email': 'mferrocarrilero@gmail.com',\n",
      " 'estado_id': 1,\n",
      " 'fecha_mod': '2022-11-22T05:52:09-06:00',\n",
      " 'gmaps_latitud': 21.88477,\n",
      " 'gmaps_longitud': -102.28093,\n",
      " 'link_sic': 'http://sic.gob.mx/ficha.php?table=museo&table_id=929',\n",
      " 'localidad_id': 1,\n",
      " 'municipio_id': 1,\n",
      " 'museo_adscripcion': 'Instituto Cultural de Aguascalientes (ICA)/Dirección de '\n",
      "                      'Promoción y Difusión',\n",
      " 'museo_calle_numero': 'Plaza de las Tres Centurias, Av. 28 de Agosto s/n',\n",
      " 'museo_colonia': 'Barrio de La Estación',\n",
      " 'museo_cp': '20059',\n",
      " 'museo_fecha_fundacion': '2003-03-04',\n",
      " 'museo_id': 929,\n",
      " 'museo_nombre': 'Museo Ferrocarrilero',\n",
      " 'museo_telefono1': '449 994 27 61 y 62',\n",
      " 'museo_tematica_n1': 'Historia',\n",
      " 'museo_tipo_de_propiedad': 'público',\n",
      " 'nom_ent': 'Aguascalientes',\n",
      " 'nom_loc': 'Aguascalientes',\n",
      " 'nom_mun': 'Aguascalientes',\n",
      " 'pagina_web': '',\n",
      " 'pagina_web2': '',\n",
      " 'twitter': ''}\n"
     ]
    }
   ],
   "source": [
    "# review a document in the collection\n",
    "pprint(db.MuseosMX.find_one())"
   ]
  },
  {
   "cell_type": "code",
   "execution_count": 7,
   "id": "11c9f11b",
   "metadata": {},
   "outputs": [],
   "source": [
    "# assign the collection to a variable\n",
    "museos = db['MuseosMX']"
   ]
  },
  {
   "cell_type": "markdown",
   "id": "d5671434",
   "metadata": {},
   "source": [
    "## Part 2: Update the collection"
   ]
  },
  {
   "cell_type": "markdown",
   "id": "314bd884",
   "metadata": {},
   "source": [
    "Identify the documents with missing values in museo_tematica_n1 and set to TND (Temática No Definida)."
   ]
  },
  {
   "cell_type": "code",
   "execution_count": 8,
   "id": "4e4dffa0",
   "metadata": {},
   "outputs": [
    {
     "name": "stdout",
     "output_type": "stream",
     "text": [
      "[{'_id': ObjectId('65a7307e6539824ece694f61'), 'museo_tematica_n1': ''},\n",
      " {'_id': ObjectId('65a7307e6539824ece694f66'), 'museo_tematica_n1': ''},\n",
      " {'_id': ObjectId('65a7307e6539824ece694f79'), 'museo_tematica_n1': ''},\n",
      " {'_id': ObjectId('65a7307e6539824ece694f7b'), 'museo_tematica_n1': ''},\n",
      " {'_id': ObjectId('65a7307e6539824ece694f83'), 'museo_tematica_n1': ''},\n",
      " {'_id': ObjectId('65a7307e6539824ece694f84'), 'museo_tematica_n1': ''},\n",
      " {'_id': ObjectId('65a7307e6539824ece694f87'), 'museo_tematica_n1': ''},\n",
      " {'_id': ObjectId('65a7307e6539824ece694f89'), 'museo_tematica_n1': ''},\n",
      " {'_id': ObjectId('65a7307e6539824ece694f8c'), 'museo_tematica_n1': ''},\n",
      " {'_id': ObjectId('65a7307e6539824ece694f90'), 'museo_tematica_n1': ''},\n",
      " {'_id': ObjectId('65a7307e6539824ece694f92'), 'museo_tematica_n1': ''},\n",
      " {'_id': ObjectId('65a7307e6539824ece694f94'), 'museo_tematica_n1': ''},\n",
      " {'_id': ObjectId('65a7307e6539824ece694f99'), 'museo_tematica_n1': ''},\n",
      " {'_id': ObjectId('65a7307e6539824ece694f9e'), 'museo_tematica_n1': ''},\n",
      " {'_id': ObjectId('65a7307e6539824ece694fa0'), 'museo_tematica_n1': ''},\n",
      " {'_id': ObjectId('65a7307e6539824ece694fa2'), 'museo_tematica_n1': ''},\n",
      " {'_id': ObjectId('65a7307e6539824ece694fa4'), 'museo_tematica_n1': ''},\n",
      " {'_id': ObjectId('65a7307e6539824ece694fa5'), 'museo_tematica_n1': ''},\n",
      " {'_id': ObjectId('65a7307e6539824ece694faa'), 'museo_tematica_n1': ''},\n",
      " {'_id': ObjectId('65a7307e6539824ece694fae'), 'museo_tematica_n1': ''},\n",
      " {'_id': ObjectId('65a7307e6539824ece694fb8'), 'museo_tematica_n1': ''},\n",
      " {'_id': ObjectId('65a7307e6539824ece694fbb'), 'museo_tematica_n1': ''},\n",
      " {'_id': ObjectId('65a7307e6539824ece694fbe'), 'museo_tematica_n1': ''},\n",
      " {'_id': ObjectId('65a7307e6539824ece694fc1'), 'museo_tematica_n1': ''},\n",
      " {'_id': ObjectId('65a7307e6539824ece694fc9'), 'museo_tematica_n1': ''},\n",
      " {'_id': ObjectId('65a7307e6539824ece694fdb'), 'museo_tematica_n1': ''},\n",
      " {'_id': ObjectId('65a7307e6539824ece694ff7'), 'museo_tematica_n1': ''},\n",
      " {'_id': ObjectId('65a7307e6539824ece695000'), 'museo_tematica_n1': ''},\n",
      " {'_id': ObjectId('65a7307e6539824ece695011'), 'museo_tematica_n1': ''},\n",
      " {'_id': ObjectId('65a7307e6539824ece695018'), 'museo_tematica_n1': ''},\n",
      " {'_id': ObjectId('65a7307e6539824ece69501d'), 'museo_tematica_n1': ''},\n",
      " {'_id': ObjectId('65a7307e6539824ece695020'), 'museo_tematica_n1': ''},\n",
      " {'_id': ObjectId('65a7307e6539824ece695029'), 'museo_tematica_n1': ''},\n",
      " {'_id': ObjectId('65a7307e6539824ece695031'), 'museo_tematica_n1': ''},\n",
      " {'_id': ObjectId('65a7307e6539824ece695034'), 'museo_tematica_n1': ''},\n",
      " {'_id': ObjectId('65a7307e6539824ece695038'), 'museo_tematica_n1': ''},\n",
      " {'_id': ObjectId('65a7307e6539824ece695041'), 'museo_tematica_n1': ''},\n",
      " {'_id': ObjectId('65a7307e6539824ece695050'), 'museo_tematica_n1': ''},\n",
      " {'_id': ObjectId('65a7307e6539824ece69505b'), 'museo_tematica_n1': ''},\n",
      " {'_id': ObjectId('65a7307e6539824ece695060'), 'museo_tematica_n1': ''},\n",
      " {'_id': ObjectId('65a7307e6539824ece695071'), 'museo_tematica_n1': ''},\n",
      " {'_id': ObjectId('65a7307e6539824ece695083'), 'museo_tematica_n1': ''},\n",
      " {'_id': ObjectId('65a7307e6539824ece695086'), 'museo_tematica_n1': ''},\n",
      " {'_id': ObjectId('65a7307e6539824ece695089'), 'museo_tematica_n1': ''},\n",
      " {'_id': ObjectId('65a7307e6539824ece69508b'), 'museo_tematica_n1': ''},\n",
      " {'_id': ObjectId('65a7307e6539824ece69508c'), 'museo_tematica_n1': ''},\n",
      " {'_id': ObjectId('65a7307e6539824ece695092'), 'museo_tematica_n1': ''},\n",
      " {'_id': ObjectId('65a7307e6539824ece695095'), 'museo_tematica_n1': ''},\n",
      " {'_id': ObjectId('65a7307e6539824ece695096'), 'museo_tematica_n1': ''},\n",
      " {'_id': ObjectId('65a7307e6539824ece6950a0'), 'museo_tematica_n1': ''},\n",
      " {'_id': ObjectId('65a7307e6539824ece6950a4'), 'museo_tematica_n1': ''},\n",
      " {'_id': ObjectId('65a7307e6539824ece6950a7'), 'museo_tematica_n1': ''},\n",
      " {'_id': ObjectId('65a7307e6539824ece6950ad'), 'museo_tematica_n1': ''},\n",
      " {'_id': ObjectId('65a7307e6539824ece6950b1'), 'museo_tematica_n1': ''},\n",
      " {'_id': ObjectId('65a7307e6539824ece6950b4'), 'museo_tematica_n1': ''},\n",
      " {'_id': ObjectId('65a7307e6539824ece6950b5'), 'museo_tematica_n1': ''},\n",
      " {'_id': ObjectId('65a7307e6539824ece6950c8'), 'museo_tematica_n1': ''},\n",
      " {'_id': ObjectId('65a7307e6539824ece6950cc'), 'museo_tematica_n1': ''},\n",
      " {'_id': ObjectId('65a7307e6539824ece6950cd'), 'museo_tematica_n1': ''},\n",
      " {'_id': ObjectId('65a7307e6539824ece6950d0'), 'museo_tematica_n1': ''},\n",
      " {'_id': ObjectId('65a7307e6539824ece6950d3'), 'museo_tematica_n1': ''},\n",
      " {'_id': ObjectId('65a7307e6539824ece6950d5'), 'museo_tematica_n1': ''},\n",
      " {'_id': ObjectId('65a7307e6539824ece6950d7'), 'museo_tematica_n1': ''},\n",
      " {'_id': ObjectId('65a7307e6539824ece6950d8'), 'museo_tematica_n1': ''},\n",
      " {'_id': ObjectId('65a7307e6539824ece6950d9'), 'museo_tematica_n1': ''},\n",
      " {'_id': ObjectId('65a7307e6539824ece6950da'), 'museo_tematica_n1': ''},\n",
      " {'_id': ObjectId('65a7307e6539824ece6950e2'), 'museo_tematica_n1': ''},\n",
      " {'_id': ObjectId('65a7307e6539824ece6950ec'), 'museo_tematica_n1': ''},\n",
      " {'_id': ObjectId('65a7307e6539824ece695102'), 'museo_tematica_n1': ''},\n",
      " {'_id': ObjectId('65a7307e6539824ece695106'), 'museo_tematica_n1': ''},\n",
      " {'_id': ObjectId('65a7307e6539824ece69510a'), 'museo_tematica_n1': ''},\n",
      " {'_id': ObjectId('65a7307e6539824ece69510b'), 'museo_tematica_n1': ''},\n",
      " {'_id': ObjectId('65a7307e6539824ece695115'), 'museo_tematica_n1': ''},\n",
      " {'_id': ObjectId('65a7307e6539824ece695116'), 'museo_tematica_n1': ''},\n",
      " {'_id': ObjectId('65a7307e6539824ece69511c'), 'museo_tematica_n1': ''},\n",
      " {'_id': ObjectId('65a7307e6539824ece695134'), 'museo_tematica_n1': ''},\n",
      " {'_id': ObjectId('65a7307e6539824ece695151'), 'museo_tematica_n1': ''},\n",
      " {'_id': ObjectId('65a7307e6539824ece695159'), 'museo_tematica_n1': ''},\n",
      " {'_id': ObjectId('65a7307e6539824ece69515b'), 'museo_tematica_n1': ''},\n",
      " {'_id': ObjectId('65a7307e6539824ece695160'), 'museo_tematica_n1': ''},\n",
      " {'_id': ObjectId('65a7307e6539824ece69516a'), 'museo_tematica_n1': ''},\n",
      " {'_id': ObjectId('65a7307e6539824ece695176'), 'museo_tematica_n1': ''},\n",
      " {'_id': ObjectId('65a7307e6539824ece695178'), 'museo_tematica_n1': ''},\n",
      " {'_id': ObjectId('65a7307e6539824ece69517c'), 'museo_tematica_n1': ''},\n",
      " {'_id': ObjectId('65a7307e6539824ece695183'), 'museo_tematica_n1': ''},\n",
      " {'_id': ObjectId('65a7307e6539824ece695185'), 'museo_tematica_n1': ''},\n",
      " {'_id': ObjectId('65a7307e6539824ece695186'), 'museo_tematica_n1': ''},\n",
      " {'_id': ObjectId('65a7307e6539824ece695188'), 'museo_tematica_n1': ''},\n",
      " {'_id': ObjectId('65a7307e6539824ece69518c'), 'museo_tematica_n1': ''},\n",
      " {'_id': ObjectId('65a7307e6539824ece69518e'), 'museo_tematica_n1': ''},\n",
      " {'_id': ObjectId('65a7307e6539824ece695190'), 'museo_tematica_n1': ''},\n",
      " {'_id': ObjectId('65a7307e6539824ece695193'), 'museo_tematica_n1': ''},\n",
      " {'_id': ObjectId('65a7307e6539824ece695195'), 'museo_tematica_n1': ''},\n",
      " {'_id': ObjectId('65a7307e6539824ece695198'), 'museo_tematica_n1': ''},\n",
      " {'_id': ObjectId('65a7307e6539824ece69519b'), 'museo_tematica_n1': ''},\n",
      " {'_id': ObjectId('65a7307e6539824ece69519d'), 'museo_tematica_n1': ''},\n",
      " {'_id': ObjectId('65a7307e6539824ece6951a0'), 'museo_tematica_n1': ''},\n",
      " {'_id': ObjectId('65a7307e6539824ece6951a1'), 'museo_tematica_n1': ''},\n",
      " {'_id': ObjectId('65a7307e6539824ece6951a2'), 'museo_tematica_n1': ''},\n",
      " {'_id': ObjectId('65a7307e6539824ece6951a3'), 'museo_tematica_n1': ''},\n",
      " {'_id': ObjectId('65a7307e6539824ece6951a5'), 'museo_tematica_n1': ''},\n",
      " {'_id': ObjectId('65a7307e6539824ece6951a9'), 'museo_tematica_n1': ''},\n",
      " {'_id': ObjectId('65a7307e6539824ece6951ab'), 'museo_tematica_n1': ''},\n",
      " {'_id': ObjectId('65a7307e6539824ece6951ac'), 'museo_tematica_n1': ''},\n",
      " {'_id': ObjectId('65a7307e6539824ece6951af'), 'museo_tematica_n1': ''},\n",
      " {'_id': ObjectId('65a7307e6539824ece6951b1'), 'museo_tematica_n1': ''},\n",
      " {'_id': ObjectId('65a7307e6539824ece6951b3'), 'museo_tematica_n1': ''},\n",
      " {'_id': ObjectId('65a7307e6539824ece6951b7'), 'museo_tematica_n1': ''},\n",
      " {'_id': ObjectId('65a7307e6539824ece6951b9'), 'museo_tematica_n1': ''},\n",
      " {'_id': ObjectId('65a7307e6539824ece6951bf'), 'museo_tematica_n1': ''},\n",
      " {'_id': ObjectId('65a7307e6539824ece6951c2'), 'museo_tematica_n1': ''},\n",
      " {'_id': ObjectId('65a7307e6539824ece6951c3'), 'museo_tematica_n1': ''},\n",
      " {'_id': ObjectId('65a7307e6539824ece6951c4'), 'museo_tematica_n1': ''},\n",
      " {'_id': ObjectId('65a7307e6539824ece6951c5'), 'museo_tematica_n1': ''},\n",
      " {'_id': ObjectId('65a7307e6539824ece6951c6'), 'museo_tematica_n1': ''},\n",
      " {'_id': ObjectId('65a7307e6539824ece6951cc'), 'museo_tematica_n1': ''},\n",
      " {'_id': ObjectId('65a7307e6539824ece6951cf'), 'museo_tematica_n1': ''},\n",
      " {'_id': ObjectId('65a7307e6539824ece6951d1'), 'museo_tematica_n1': ''},\n",
      " {'_id': ObjectId('65a7307e6539824ece6951d3'), 'museo_tematica_n1': ''},\n",
      " {'_id': ObjectId('65a7307e6539824ece6951d4'), 'museo_tematica_n1': ''},\n",
      " {'_id': ObjectId('65a7307e6539824ece6951d5'), 'museo_tematica_n1': ''},\n",
      " {'_id': ObjectId('65a7307e6539824ece6951d6'), 'museo_tematica_n1': ''},\n",
      " {'_id': ObjectId('65a7307e6539824ece6951dc'), 'museo_tematica_n1': ''},\n",
      " {'_id': ObjectId('65a7307e6539824ece6951dd'), 'museo_tematica_n1': ''},\n",
      " {'_id': ObjectId('65a7307e6539824ece6951df'), 'museo_tematica_n1': ''},\n",
      " {'_id': ObjectId('65a7307e6539824ece6951e0'), 'museo_tematica_n1': ''},\n",
      " {'_id': ObjectId('65a7307e6539824ece6951e1'), 'museo_tematica_n1': ''},\n",
      " {'_id': ObjectId('65a7307e6539824ece6951e6'), 'museo_tematica_n1': ''},\n",
      " {'_id': ObjectId('65a7307e6539824ece6951e9'), 'museo_tematica_n1': ''},\n",
      " {'_id': ObjectId('65a7307e6539824ece6951f0'), 'museo_tematica_n1': ''},\n",
      " {'_id': ObjectId('65a7307e6539824ece6951f1'), 'museo_tematica_n1': ''},\n",
      " {'_id': ObjectId('65a7307e6539824ece6951f7'), 'museo_tematica_n1': ''},\n",
      " {'_id': ObjectId('65a7307e6539824ece6951fa'), 'museo_tematica_n1': ''},\n",
      " {'_id': ObjectId('65a7307e6539824ece6951fc'), 'museo_tematica_n1': ''},\n",
      " {'_id': ObjectId('65a7307e6539824ece695208'), 'museo_tematica_n1': ''},\n",
      " {'_id': ObjectId('65a7307e6539824ece695210'), 'museo_tematica_n1': ''},\n",
      " {'_id': ObjectId('65a7307e6539824ece69521d'), 'museo_tematica_n1': ''},\n",
      " {'_id': ObjectId('65a7307e6539824ece695220'), 'museo_tematica_n1': ''},\n",
      " {'_id': ObjectId('65a7307e6539824ece695221'), 'museo_tematica_n1': ''},\n",
      " {'_id': ObjectId('65a7307e6539824ece695224'), 'museo_tematica_n1': ''},\n",
      " {'_id': ObjectId('65a7307e6539824ece69522e'), 'museo_tematica_n1': ''},\n",
      " {'_id': ObjectId('65a7307e6539824ece69524a'), 'museo_tematica_n1': ''},\n",
      " {'_id': ObjectId('65a7307e6539824ece69524b'), 'museo_tematica_n1': ''},\n",
      " {'_id': ObjectId('65a7307e6539824ece695256'), 'museo_tematica_n1': ''},\n",
      " {'_id': ObjectId('65a7307e6539824ece69525e'), 'museo_tematica_n1': ''},\n",
      " {'_id': ObjectId('65a7307e6539824ece69525f'), 'museo_tematica_n1': ''},\n",
      " {'_id': ObjectId('65a7307e6539824ece695268'), 'museo_tematica_n1': ''},\n",
      " {'_id': ObjectId('65a7307e6539824ece695269'), 'museo_tematica_n1': ''},\n",
      " {'_id': ObjectId('65a7307e6539824ece69526a'), 'museo_tematica_n1': ''},\n",
      " {'_id': ObjectId('65a7307e6539824ece69526c'), 'museo_tematica_n1': ''},\n",
      " {'_id': ObjectId('65a7307e6539824ece69526e'), 'museo_tematica_n1': ''},\n",
      " {'_id': ObjectId('65a7307e6539824ece695277'), 'museo_tematica_n1': ''},\n",
      " {'_id': ObjectId('65a7307e6539824ece69529b'), 'museo_tematica_n1': ''},\n",
      " {'_id': ObjectId('65a7307e6539824ece69529c'), 'museo_tematica_n1': ''},\n",
      " {'_id': ObjectId('65a7307e6539824ece6952a9'), 'museo_tematica_n1': ''},\n",
      " {'_id': ObjectId('65a7307e6539824ece6952b0'), 'museo_tematica_n1': ''},\n",
      " {'_id': ObjectId('65a7307e6539824ece6952b4'), 'museo_tematica_n1': ''},\n",
      " {'_id': ObjectId('65a7307e6539824ece6952be'), 'museo_tematica_n1': ''},\n",
      " {'_id': ObjectId('65a7307e6539824ece6952c1'), 'museo_tematica_n1': ''},\n",
      " {'_id': ObjectId('65a7307e6539824ece6952cb'), 'museo_tematica_n1': ''},\n",
      " {'_id': ObjectId('65a7307e6539824ece6952cf'), 'museo_tematica_n1': ''},\n",
      " {'_id': ObjectId('65a7307e6539824ece6952d0'), 'museo_tematica_n1': ''},\n",
      " {'_id': ObjectId('65a7307e6539824ece6952dc'), 'museo_tematica_n1': ''},\n",
      " {'_id': ObjectId('65a7307e6539824ece6952fa'), 'museo_tematica_n1': ''},\n",
      " {'_id': ObjectId('65a7307e6539824ece6952fb'), 'museo_tematica_n1': ''},\n",
      " {'_id': ObjectId('65a7307e6539824ece6952fd'), 'museo_tematica_n1': ''},\n",
      " {'_id': ObjectId('65a7307e6539824ece695301'), 'museo_tematica_n1': ''},\n",
      " {'_id': ObjectId('65a7307e6539824ece69531a'), 'museo_tematica_n1': ''},\n",
      " {'_id': ObjectId('65a7307e6539824ece69531b'), 'museo_tematica_n1': ''},\n",
      " {'_id': ObjectId('65a7307e6539824ece695326'), 'museo_tematica_n1': ''},\n",
      " {'_id': ObjectId('65a7307e6539824ece695327'), 'museo_tematica_n1': ''},\n",
      " {'_id': ObjectId('65a7307e6539824ece695328'), 'museo_tematica_n1': ''},\n",
      " {'_id': ObjectId('65a7307e6539824ece69532b'), 'museo_tematica_n1': ''},\n",
      " {'_id': ObjectId('65a7307e6539824ece69532f'), 'museo_tematica_n1': ''},\n",
      " {'_id': ObjectId('65a7307f6539824ece695341'), 'museo_tematica_n1': ''},\n",
      " {'_id': ObjectId('65a7307f6539824ece695344'), 'museo_tematica_n1': ''},\n",
      " {'_id': ObjectId('65a7307f6539824ece69534e'), 'museo_tematica_n1': ''},\n",
      " {'_id': ObjectId('65a7307f6539824ece69535e'), 'museo_tematica_n1': ''},\n",
      " {'_id': ObjectId('65a7307f6539824ece69536c'), 'museo_tematica_n1': ''},\n",
      " {'_id': ObjectId('65a7307f6539824ece69536d'), 'museo_tematica_n1': ''},\n",
      " {'_id': ObjectId('65a7307f6539824ece69536e'), 'museo_tematica_n1': ''},\n",
      " {'_id': ObjectId('65a7307f6539824ece695375'), 'museo_tematica_n1': ''},\n",
      " {'_id': ObjectId('65a7307f6539824ece69537b'), 'museo_tematica_n1': ''},\n",
      " {'_id': ObjectId('65a7307f6539824ece695388'), 'museo_tematica_n1': ''},\n",
      " {'_id': ObjectId('65a7307f6539824ece69538e'), 'museo_tematica_n1': ''},\n",
      " {'_id': ObjectId('65a7307f6539824ece695393'), 'museo_tematica_n1': ''},\n",
      " {'_id': ObjectId('65a7307f6539824ece695396'), 'museo_tematica_n1': ''},\n",
      " {'_id': ObjectId('65a7307f6539824ece69539b'), 'museo_tematica_n1': ''},\n",
      " {'_id': ObjectId('65a7307f6539824ece69539d'), 'museo_tematica_n1': ''},\n",
      " {'_id': ObjectId('65a7307f6539824ece6953a1'), 'museo_tematica_n1': ''},\n",
      " {'_id': ObjectId('65a7307f6539824ece6953a4'), 'museo_tematica_n1': ''},\n",
      " {'_id': ObjectId('65a7307f6539824ece6953a6'), 'museo_tematica_n1': ''},\n",
      " {'_id': ObjectId('65a7307f6539824ece6953af'), 'museo_tematica_n1': ''},\n",
      " {'_id': ObjectId('65a7307f6539824ece6953b2'), 'museo_tematica_n1': ''},\n",
      " {'_id': ObjectId('65a7307f6539824ece6953b8'), 'museo_tematica_n1': ''},\n",
      " {'_id': ObjectId('65a7307f6539824ece6953b9'), 'museo_tematica_n1': ''},\n",
      " {'_id': ObjectId('65a7307f6539824ece6953bb'), 'museo_tematica_n1': ''},\n",
      " {'_id': ObjectId('65a7307f6539824ece6953bd'), 'museo_tematica_n1': ''},\n",
      " {'_id': ObjectId('65a7307f6539824ece6953d2'), 'museo_tematica_n1': ''},\n",
      " {'_id': ObjectId('65a7307f6539824ece6953db'), 'museo_tematica_n1': ''},\n",
      " {'_id': ObjectId('65a7307f6539824ece6953e1'), 'museo_tematica_n1': ''},\n",
      " {'_id': ObjectId('65a7307f6539824ece6953e7'), 'museo_tematica_n1': ''},\n",
      " {'_id': ObjectId('65a7307f6539824ece6953e8'), 'museo_tematica_n1': ''},\n",
      " {'_id': ObjectId('65a7307f6539824ece6953eb'), 'museo_tematica_n1': ''},\n",
      " {'_id': ObjectId('65a7307f6539824ece6953ec'), 'museo_tematica_n1': ''},\n",
      " {'_id': ObjectId('65a7307f6539824ece6953ed'), 'museo_tematica_n1': ''},\n",
      " {'_id': ObjectId('65a7307f6539824ece6953ee'), 'museo_tematica_n1': ''},\n",
      " {'_id': ObjectId('65a7307f6539824ece6953f0'), 'museo_tematica_n1': ''},\n",
      " {'_id': ObjectId('65a7307f6539824ece6953f2'), 'museo_tematica_n1': ''},\n",
      " {'_id': ObjectId('65a7307f6539824ece6953f4'), 'museo_tematica_n1': ''},\n",
      " {'_id': ObjectId('65a7307f6539824ece6953f5'), 'museo_tematica_n1': ''},\n",
      " {'_id': ObjectId('65a7307f6539824ece6953fc'), 'museo_tematica_n1': ''},\n",
      " {'_id': ObjectId('65a7307f6539824ece6953fe'), 'museo_tematica_n1': ''},\n",
      " {'_id': ObjectId('65a7307f6539824ece695400'), 'museo_tematica_n1': ''},\n",
      " {'_id': ObjectId('65a7307f6539824ece695403'), 'museo_tematica_n1': ''},\n",
      " {'_id': ObjectId('65a7307f6539824ece695405'), 'museo_tematica_n1': ''},\n",
      " {'_id': ObjectId('65a7307f6539824ece695407'), 'museo_tematica_n1': ''},\n",
      " {'_id': ObjectId('65a7307f6539824ece695409'), 'museo_tematica_n1': ''},\n",
      " {'_id': ObjectId('65a7307f6539824ece695413'), 'museo_tematica_n1': ''},\n",
      " {'_id': ObjectId('65a7307f6539824ece695414'), 'museo_tematica_n1': ''},\n",
      " {'_id': ObjectId('65a7307f6539824ece695417'), 'museo_tematica_n1': ''},\n",
      " {'_id': ObjectId('65a7307f6539824ece69541a'), 'museo_tematica_n1': ''},\n",
      " {'_id': ObjectId('65a7307f6539824ece69541b'), 'museo_tematica_n1': ''},\n",
      " {'_id': ObjectId('65a7307f6539824ece695424'), 'museo_tematica_n1': ''},\n",
      " {'_id': ObjectId('65a7307f6539824ece695425'), 'museo_tematica_n1': ''},\n",
      " {'_id': ObjectId('65a7307f6539824ece69542a'), 'museo_tematica_n1': ''},\n",
      " {'_id': ObjectId('65a7307f6539824ece69542f'), 'museo_tematica_n1': ''},\n",
      " {'_id': ObjectId('65a7307f6539824ece695430'), 'museo_tematica_n1': ''},\n",
      " {'_id': ObjectId('65a7307f6539824ece69543a'), 'museo_tematica_n1': ''},\n",
      " {'_id': ObjectId('65a7307f6539824ece69544c'), 'museo_tematica_n1': ''},\n",
      " {'_id': ObjectId('65a7307f6539824ece695452'), 'museo_tematica_n1': ''},\n",
      " {'_id': ObjectId('65a7307f6539824ece695455'), 'museo_tematica_n1': ''},\n",
      " {'_id': ObjectId('65a7307f6539824ece695456'), 'museo_tematica_n1': ''},\n",
      " {'_id': ObjectId('65a7307f6539824ece695458'), 'museo_tematica_n1': ''},\n",
      " {'_id': ObjectId('65a7307f6539824ece695464'), 'museo_tematica_n1': ''},\n",
      " {'_id': ObjectId('65a7307f6539824ece69546d'), 'museo_tematica_n1': ''},\n",
      " {'_id': ObjectId('65a7307f6539824ece695472'), 'museo_tematica_n1': ''},\n",
      " {'_id': ObjectId('65a7307f6539824ece695476'), 'museo_tematica_n1': ''},\n",
      " {'_id': ObjectId('65a7307f6539824ece695483'), 'museo_tematica_n1': ''},\n",
      " {'_id': ObjectId('65a7307f6539824ece695493'), 'museo_tematica_n1': ''},\n",
      " {'_id': ObjectId('65a7307f6539824ece695495'), 'museo_tematica_n1': ''},\n",
      " {'_id': ObjectId('65a7307f6539824ece695497'), 'museo_tematica_n1': ''},\n",
      " {'_id': ObjectId('65a7307f6539824ece695498'), 'museo_tematica_n1': ''},\n",
      " {'_id': ObjectId('65a7307f6539824ece69549a'), 'museo_tematica_n1': ''},\n",
      " {'_id': ObjectId('65a7307f6539824ece6954a9'), 'museo_tematica_n1': ''},\n",
      " {'_id': ObjectId('65a7307f6539824ece6954ac'), 'museo_tematica_n1': ''},\n",
      " {'_id': ObjectId('65a7307f6539824ece6954b4'), 'museo_tematica_n1': ''},\n",
      " {'_id': ObjectId('65a7307f6539824ece6954b5'), 'museo_tematica_n1': ''},\n",
      " {'_id': ObjectId('65a7307f6539824ece6954c5'), 'museo_tematica_n1': ''},\n",
      " {'_id': ObjectId('65a7307f6539824ece6954c7'), 'museo_tematica_n1': ''},\n",
      " {'_id': ObjectId('65a7307f6539824ece6954cc'), 'museo_tematica_n1': ''},\n",
      " {'_id': ObjectId('65a7307f6539824ece6954d0'), 'museo_tematica_n1': ''},\n",
      " {'_id': ObjectId('65a7307f6539824ece6954d1'), 'museo_tematica_n1': ''},\n",
      " {'_id': ObjectId('65a7307f6539824ece6954d3'), 'museo_tematica_n1': ''},\n",
      " {'_id': ObjectId('65a7307f6539824ece6954d4'), 'museo_tematica_n1': ''},\n",
      " {'_id': ObjectId('65a7307f6539824ece6954d8'), 'museo_tematica_n1': ''},\n",
      " {'_id': ObjectId('65a7307f6539824ece6954d9'), 'museo_tematica_n1': ''},\n",
      " {'_id': ObjectId('65a7307f6539824ece6954dd'), 'museo_tematica_n1': ''},\n",
      " {'_id': ObjectId('65a7307f6539824ece6954df'), 'museo_tematica_n1': ''},\n",
      " {'_id': ObjectId('65a7307f6539824ece6954e0'), 'museo_tematica_n1': ''},\n",
      " {'_id': ObjectId('65a7307f6539824ece6954e7'), 'museo_tematica_n1': ''},\n",
      " {'_id': ObjectId('65a7307f6539824ece6954e8'), 'museo_tematica_n1': ''},\n",
      " {'_id': ObjectId('65a7307f6539824ece6954ea'), 'museo_tematica_n1': ''},\n",
      " {'_id': ObjectId('65a7307f6539824ece6954eb'), 'museo_tematica_n1': ''},\n",
      " {'_id': ObjectId('65a7307f6539824ece6954ee'), 'museo_tematica_n1': ''},\n",
      " {'_id': ObjectId('65a7307f6539824ece6954f0'), 'museo_tematica_n1': ''},\n",
      " {'_id': ObjectId('65a7307f6539824ece6954f1'), 'museo_tematica_n1': ''},\n",
      " {'_id': ObjectId('65a7307f6539824ece6954f3'), 'museo_tematica_n1': ''},\n",
      " {'_id': ObjectId('65a7307f6539824ece6954f4'), 'museo_tematica_n1': ''},\n",
      " {'_id': ObjectId('65a7307f6539824ece6954f9'), 'museo_tematica_n1': ''},\n",
      " {'_id': ObjectId('65a7307f6539824ece6954fd'), 'museo_tematica_n1': ''},\n",
      " {'_id': ObjectId('65a7307f6539824ece695501'), 'museo_tematica_n1': ''},\n",
      " {'_id': ObjectId('65a7307f6539824ece695502'), 'museo_tematica_n1': ''},\n",
      " {'_id': ObjectId('65a7307f6539824ece695507'), 'museo_tematica_n1': ''},\n",
      " {'_id': ObjectId('65a7307f6539824ece695509'), 'museo_tematica_n1': ''},\n",
      " {'_id': ObjectId('65a7307f6539824ece69550c'), 'museo_tematica_n1': ''},\n",
      " {'_id': ObjectId('65a7307f6539824ece69550f'), 'museo_tematica_n1': ''},\n",
      " {'_id': ObjectId('65a7307f6539824ece695510'), 'museo_tematica_n1': ''},\n",
      " {'_id': ObjectId('65a7307f6539824ece695511'), 'museo_tematica_n1': ''},\n",
      " {'_id': ObjectId('65a7307f6539824ece695512'), 'museo_tematica_n1': ''},\n",
      " {'_id': ObjectId('65a7307f6539824ece695513'), 'museo_tematica_n1': ''},\n",
      " {'_id': ObjectId('65a7307f6539824ece695514'), 'museo_tematica_n1': ''},\n",
      " {'_id': ObjectId('65a7307f6539824ece695515'), 'museo_tematica_n1': ''},\n",
      " {'_id': ObjectId('65a7307f6539824ece695517'), 'museo_tematica_n1': ''},\n",
      " {'_id': ObjectId('65a7307f6539824ece695518'), 'museo_tematica_n1': ''},\n",
      " {'_id': ObjectId('65a7307f6539824ece695519'), 'museo_tematica_n1': ''},\n",
      " {'_id': ObjectId('65a7307f6539824ece69551a'), 'museo_tematica_n1': ''},\n",
      " {'_id': ObjectId('65a7307f6539824ece69551b'), 'museo_tematica_n1': ''},\n",
      " {'_id': ObjectId('65a7307f6539824ece69551c'), 'museo_tematica_n1': ''},\n",
      " {'_id': ObjectId('65a7307f6539824ece69551f'), 'museo_tematica_n1': ''},\n",
      " {'_id': ObjectId('65a7307f6539824ece695520'), 'museo_tematica_n1': ''},\n",
      " {'_id': ObjectId('65a7307f6539824ece695521'), 'museo_tematica_n1': ''},\n",
      " {'_id': ObjectId('65a7307f6539824ece695526'), 'museo_tematica_n1': ''},\n",
      " {'_id': ObjectId('65a7307f6539824ece695535'), 'museo_tematica_n1': ''},\n",
      " {'_id': ObjectId('65a7307f6539824ece695539'), 'museo_tematica_n1': ''},\n",
      " {'_id': ObjectId('65a7307f6539824ece695540'), 'museo_tematica_n1': ''},\n",
      " {'_id': ObjectId('65a7307f6539824ece695542'), 'museo_tematica_n1': ''},\n",
      " {'_id': ObjectId('65a7307f6539824ece695543'), 'museo_tematica_n1': ''},\n",
      " {'_id': ObjectId('65a7307f6539824ece695546'), 'museo_tematica_n1': ''},\n",
      " {'_id': ObjectId('65a7307f6539824ece69554f'), 'museo_tematica_n1': ''},\n",
      " {'_id': ObjectId('65a7307f6539824ece695550'), 'museo_tematica_n1': ''},\n",
      " {'_id': ObjectId('65a7307f6539824ece695554'), 'museo_tematica_n1': ''},\n",
      " {'_id': ObjectId('65a7307f6539824ece695557'), 'museo_tematica_n1': ''},\n",
      " {'_id': ObjectId('65a7307f6539824ece695559'), 'museo_tematica_n1': ''},\n",
      " {'_id': ObjectId('65a7307f6539824ece69555e'), 'museo_tematica_n1': ''},\n",
      " {'_id': ObjectId('65a7307f6539824ece69555f'), 'museo_tematica_n1': ''},\n",
      " {'_id': ObjectId('65a7307f6539824ece695560'), 'museo_tematica_n1': ''},\n",
      " {'_id': ObjectId('65a7307f6539824ece695562'), 'museo_tematica_n1': ''},\n",
      " {'_id': ObjectId('65a7307f6539824ece695563'), 'museo_tematica_n1': ''},\n",
      " {'_id': ObjectId('65a7307f6539824ece695566'), 'museo_tematica_n1': ''},\n",
      " {'_id': ObjectId('65a7307f6539824ece69556a'), 'museo_tematica_n1': ''},\n",
      " {'_id': ObjectId('65a7307f6539824ece69556b'), 'museo_tematica_n1': ''},\n",
      " {'_id': ObjectId('65a7307f6539824ece69556c'), 'museo_tematica_n1': ''},\n",
      " {'_id': ObjectId('65a7307f6539824ece69556d'), 'museo_tematica_n1': ''},\n",
      " {'_id': ObjectId('65a7307f6539824ece695572'), 'museo_tematica_n1': ''},\n",
      " {'_id': ObjectId('65a7307f6539824ece69557a'), 'museo_tematica_n1': ''},\n",
      " {'_id': ObjectId('65a7307f6539824ece69557f'), 'museo_tematica_n1': ''},\n",
      " {'_id': ObjectId('65a7307f6539824ece695582'), 'museo_tematica_n1': ''},\n",
      " {'_id': ObjectId('65a7307f6539824ece695587'), 'museo_tematica_n1': ''},\n",
      " {'_id': ObjectId('65a7307f6539824ece69558a'), 'museo_tematica_n1': ''},\n",
      " {'_id': ObjectId('65a7307f6539824ece695593'), 'museo_tematica_n1': ''},\n",
      " {'_id': ObjectId('65a7307f6539824ece69559c'), 'museo_tematica_n1': ''},\n",
      " {'_id': ObjectId('65a7307f6539824ece69559e'), 'museo_tematica_n1': ''}]\n"
     ]
    }
   ],
   "source": [
    "# Find the documents with missing values in museo_tematica_n1\n",
    "query_tema = {\"museo_tematica_n1\" : \"\",}\n",
    "field_tema = {\"museo_tematica_n1\" : True,}\n",
    "\n",
    "tema = museos.find(query_tema, field_tema)\n",
    "pprint(list(tema))"
   ]
  },
  {
   "cell_type": "code",
   "execution_count": 10,
   "id": "6d234329",
   "metadata": {},
   "outputs": [
    {
     "data": {
      "text/plain": [
       "323"
      ]
     },
     "execution_count": 10,
     "metadata": {},
     "output_type": "execute_result"
    }
   ],
   "source": [
    "museos.count_documents({\"museo_tematica_n1\" : \"\",})"
   ]
  },
  {
   "cell_type": "code",
   "execution_count": 11,
   "id": "95d766c3",
   "metadata": {},
   "outputs": [
    {
     "data": {
      "text/plain": [
       "<pymongo.results.UpdateResult at 0x25cee067500>"
      ]
     },
     "execution_count": 11,
     "metadata": {},
     "output_type": "execute_result"
    }
   ],
   "source": [
    "# Update the documents found with TND\n",
    "new_tema = {\"$set\" : {\"museo_tematica_n1\" : \"TND\"}}\n",
    "museos.update_many({'museo_tematica_n1': ''}, new_tema)"
   ]
  },
  {
   "cell_type": "code",
   "execution_count": 12,
   "id": "23cdea47",
   "metadata": {},
   "outputs": [
    {
     "data": {
      "text/plain": [
       "0"
      ]
     },
     "execution_count": 12,
     "metadata": {},
     "output_type": "execute_result"
    }
   ],
   "source": [
    "museos.count_documents({\"museo_tematica_n1\" : \"\",})"
   ]
  },
  {
   "cell_type": "code",
   "execution_count": 13,
   "id": "279e31ed",
   "metadata": {},
   "outputs": [
    {
     "data": {
      "text/plain": [
       "371"
      ]
     },
     "execution_count": 13,
     "metadata": {},
     "output_type": "execute_result"
    }
   ],
   "source": [
    "museos.count_documents({\"museo_tematica_n1\" : \"TND\",})"
   ]
  },
  {
   "cell_type": "markdown",
   "id": "b1515ce9",
   "metadata": {},
   "source": [
    "Identify the documents with erroneous museo_fecha_fundacion and set to NA"
   ]
  },
  {
   "cell_type": "code",
   "execution_count": 14,
   "id": "a8143e71",
   "metadata": {},
   "outputs": [
    {
     "name": "stdout",
     "output_type": "stream",
     "text": [
      "[{'_id': ObjectId('65a7307e6539824ece694f61'),\n",
      "  'museo_fecha_fundacion': '1000-01-01'},\n",
      " {'_id': ObjectId('65a7307e6539824ece694f79'),\n",
      "  'museo_fecha_fundacion': '1000-01-01'},\n",
      " {'_id': ObjectId('65a7307e6539824ece694f89'),\n",
      "  'museo_fecha_fundacion': '1000-01-01'},\n",
      " {'_id': ObjectId('65a7307e6539824ece694fa0'),\n",
      "  'museo_fecha_fundacion': '1000-01-01'},\n",
      " {'_id': ObjectId('65a7307e6539824ece694fa5'),\n",
      "  'museo_fecha_fundacion': '1000-01-01'},\n",
      " {'_id': ObjectId('65a7307e6539824ece694fab'),\n",
      "  'museo_fecha_fundacion': '1000-01-01'},\n",
      " {'_id': ObjectId('65a7307e6539824ece694fae'),\n",
      "  'museo_fecha_fundacion': '1000-01-01'},\n",
      " {'_id': ObjectId('65a7307e6539824ece694fb8'),\n",
      "  'museo_fecha_fundacion': '1000-01-01'},\n",
      " {'_id': ObjectId('65a7307e6539824ece694fba'),\n",
      "  'museo_fecha_fundacion': '1000-01-01'},\n",
      " {'_id': ObjectId('65a7307e6539824ece694fc1'),\n",
      "  'museo_fecha_fundacion': '1000-01-01'},\n",
      " {'_id': ObjectId('65a7307e6539824ece694fdb'),\n",
      "  'museo_fecha_fundacion': '1000-01-01'},\n",
      " {'_id': ObjectId('65a7307e6539824ece694fe9'),\n",
      "  'museo_fecha_fundacion': '1000-01-01'},\n",
      " {'_id': ObjectId('65a7307e6539824ece694ff6'),\n",
      "  'museo_fecha_fundacion': '1000-01-01'},\n",
      " {'_id': ObjectId('65a7307e6539824ece694ff7'),\n",
      "  'museo_fecha_fundacion': '1000-01-01'},\n",
      " {'_id': ObjectId('65a7307e6539824ece694ff8'),\n",
      "  'museo_fecha_fundacion': '1000-01-01'},\n",
      " {'_id': ObjectId('65a7307e6539824ece695007'),\n",
      "  'museo_fecha_fundacion': '1000-01-01'},\n",
      " {'_id': ObjectId('65a7307e6539824ece69500d'),\n",
      "  'museo_fecha_fundacion': '1000-01-01'},\n",
      " {'_id': ObjectId('65a7307e6539824ece695011'),\n",
      "  'museo_fecha_fundacion': '1000-01-01'},\n",
      " {'_id': ObjectId('65a7307e6539824ece695020'),\n",
      "  'museo_fecha_fundacion': '1000-01-01'},\n",
      " {'_id': ObjectId('65a7307e6539824ece69504e'),\n",
      "  'museo_fecha_fundacion': '1000-01-01'},\n",
      " {'_id': ObjectId('65a7307e6539824ece695050'),\n",
      "  'museo_fecha_fundacion': '1000-01-01'},\n",
      " {'_id': ObjectId('65a7307e6539824ece695058'),\n",
      "  'museo_fecha_fundacion': '1000-01-01'},\n",
      " {'_id': ObjectId('65a7307e6539824ece695067'),\n",
      "  'museo_fecha_fundacion': '1000-01-01'},\n",
      " {'_id': ObjectId('65a7307e6539824ece695071'),\n",
      "  'museo_fecha_fundacion': '1000-01-01'},\n",
      " {'_id': ObjectId('65a7307e6539824ece6950a4'),\n",
      "  'museo_fecha_fundacion': '1000-01-01'},\n",
      " {'_id': ObjectId('65a7307e6539824ece6950a5'),\n",
      "  'museo_fecha_fundacion': '1000-01-01'},\n",
      " {'_id': ObjectId('65a7307e6539824ece6950d0'),\n",
      "  'museo_fecha_fundacion': '1000-01-01'},\n",
      " {'_id': ObjectId('65a7307e6539824ece6950d5'),\n",
      "  'museo_fecha_fundacion': '1000-01-01'},\n",
      " {'_id': ObjectId('65a7307e6539824ece695102'),\n",
      "  'museo_fecha_fundacion': '1000-01-01'},\n",
      " {'_id': ObjectId('65a7307e6539824ece695133'),\n",
      "  'museo_fecha_fundacion': '1000-01-01'},\n",
      " {'_id': ObjectId('65a7307e6539824ece695134'),\n",
      "  'museo_fecha_fundacion': '1000-01-01'},\n",
      " {'_id': ObjectId('65a7307e6539824ece69514f'),\n",
      "  'museo_fecha_fundacion': '1000-01-01'},\n",
      " {'_id': ObjectId('65a7307e6539824ece69515b'),\n",
      "  'museo_fecha_fundacion': '1000-01-01'},\n",
      " {'_id': ObjectId('65a7307e6539824ece695160'),\n",
      "  'museo_fecha_fundacion': '1000-01-01'},\n",
      " {'_id': ObjectId('65a7307e6539824ece695168'),\n",
      "  'museo_fecha_fundacion': '1000-01-01'},\n",
      " {'_id': ObjectId('65a7307e6539824ece695188'),\n",
      "  'museo_fecha_fundacion': '1000-01-01'},\n",
      " {'_id': ObjectId('65a7307e6539824ece695193'),\n",
      "  'museo_fecha_fundacion': '1000-01-01'},\n",
      " {'_id': ObjectId('65a7307e6539824ece6951ab'),\n",
      "  'museo_fecha_fundacion': '1000-01-01'},\n",
      " {'_id': ObjectId('65a7307e6539824ece6951ac'),\n",
      "  'museo_fecha_fundacion': '1000-01-01'},\n",
      " {'_id': ObjectId('65a7307e6539824ece6951af'),\n",
      "  'museo_fecha_fundacion': '1000-01-01'},\n",
      " {'_id': ObjectId('65a7307e6539824ece6951bf'),\n",
      "  'museo_fecha_fundacion': '1000-01-01'},\n",
      " {'_id': ObjectId('65a7307e6539824ece6951c3'),\n",
      "  'museo_fecha_fundacion': '1000-01-01'},\n",
      " {'_id': ObjectId('65a7307e6539824ece6951c5'),\n",
      "  'museo_fecha_fundacion': '1000-01-01'},\n",
      " {'_id': ObjectId('65a7307e6539824ece6951cc'),\n",
      "  'museo_fecha_fundacion': '1000-01-01'},\n",
      " {'_id': ObjectId('65a7307e6539824ece6951d1'),\n",
      "  'museo_fecha_fundacion': '1000-01-01'},\n",
      " {'_id': ObjectId('65a7307e6539824ece6951d4'),\n",
      "  'museo_fecha_fundacion': '1000-01-01'},\n",
      " {'_id': ObjectId('65a7307e6539824ece6951d6'),\n",
      "  'museo_fecha_fundacion': '1000-01-01'},\n",
      " {'_id': ObjectId('65a7307e6539824ece6951db'),\n",
      "  'museo_fecha_fundacion': '1000-01-01'},\n",
      " {'_id': ObjectId('65a7307e6539824ece6951dc'),\n",
      "  'museo_fecha_fundacion': '1000-01-01'},\n",
      " {'_id': ObjectId('65a7307e6539824ece6951e6'),\n",
      "  'museo_fecha_fundacion': '1000-01-01'},\n",
      " {'_id': ObjectId('65a7307e6539824ece695258'),\n",
      "  'museo_fecha_fundacion': '1000-01-01'},\n",
      " {'_id': ObjectId('65a7307e6539824ece69525e'),\n",
      "  'museo_fecha_fundacion': '1000-01-01'},\n",
      " {'_id': ObjectId('65a7307e6539824ece69526e'),\n",
      "  'museo_fecha_fundacion': '1000-01-01'},\n",
      " {'_id': ObjectId('65a7307e6539824ece695273'),\n",
      "  'museo_fecha_fundacion': '1000-01-01'},\n",
      " {'_id': ObjectId('65a7307e6539824ece69528b'),\n",
      "  'museo_fecha_fundacion': '1000-01-01'},\n",
      " {'_id': ObjectId('65a7307e6539824ece6952c1'),\n",
      "  'museo_fecha_fundacion': '1000-01-01'},\n",
      " {'_id': ObjectId('65a7307e6539824ece6952c3'),\n",
      "  'museo_fecha_fundacion': '1000-01-01'},\n",
      " {'_id': ObjectId('65a7307e6539824ece6952cf'),\n",
      "  'museo_fecha_fundacion': '1000-01-01'},\n",
      " {'_id': ObjectId('65a7307e6539824ece6952da'),\n",
      "  'museo_fecha_fundacion': '1000-01-01'},\n",
      " {'_id': ObjectId('65a7307e6539824ece6952e3'),\n",
      "  'museo_fecha_fundacion': '1000-01-01'},\n",
      " {'_id': ObjectId('65a7307e6539824ece695308'),\n",
      "  'museo_fecha_fundacion': '1000-01-01'},\n",
      " {'_id': ObjectId('65a7307e6539824ece695310'),\n",
      "  'museo_fecha_fundacion': '1000-01-01'},\n",
      " {'_id': ObjectId('65a7307e6539824ece695314'),\n",
      "  'museo_fecha_fundacion': '1000-01-01'},\n",
      " {'_id': ObjectId('65a7307e6539824ece69532f'),\n",
      "  'museo_fecha_fundacion': '1000-01-01'},\n",
      " {'_id': ObjectId('65a7307f6539824ece69536c'),\n",
      "  'museo_fecha_fundacion': '1000-01-01'},\n",
      " {'_id': ObjectId('65a7307f6539824ece695373'),\n",
      "  'museo_fecha_fundacion': '1000-01-01'},\n",
      " {'_id': ObjectId('65a7307f6539824ece695375'),\n",
      "  'museo_fecha_fundacion': '1000-01-01'},\n",
      " {'_id': ObjectId('65a7307f6539824ece69537b'),\n",
      "  'museo_fecha_fundacion': '1000-01-01'},\n",
      " {'_id': ObjectId('65a7307f6539824ece69537f'),\n",
      "  'museo_fecha_fundacion': '1000-01-01'},\n",
      " {'_id': ObjectId('65a7307f6539824ece695389'),\n",
      "  'museo_fecha_fundacion': '1000-01-01'},\n",
      " {'_id': ObjectId('65a7307f6539824ece69538e'),\n",
      "  'museo_fecha_fundacion': '1000-01-01'},\n",
      " {'_id': ObjectId('65a7307f6539824ece695397'),\n",
      "  'museo_fecha_fundacion': '1000-01-01'},\n",
      " {'_id': ObjectId('65a7307f6539824ece69539d'),\n",
      "  'museo_fecha_fundacion': '1000-01-01'},\n",
      " {'_id': ObjectId('65a7307f6539824ece6953a1'),\n",
      "  'museo_fecha_fundacion': '1000-01-01'},\n",
      " {'_id': ObjectId('65a7307f6539824ece6953bb'),\n",
      "  'museo_fecha_fundacion': '1000-01-01'},\n",
      " {'_id': ObjectId('65a7307f6539824ece6953db'),\n",
      "  'museo_fecha_fundacion': '1000-01-01'},\n",
      " {'_id': ObjectId('65a7307f6539824ece6953dc'),\n",
      "  'museo_fecha_fundacion': '1000-01-01'},\n",
      " {'_id': ObjectId('65a7307f6539824ece6953e1'),\n",
      "  'museo_fecha_fundacion': '1000-01-01'},\n",
      " {'_id': ObjectId('65a7307f6539824ece6953e2'),\n",
      "  'museo_fecha_fundacion': '1000-01-01'},\n",
      " {'_id': ObjectId('65a7307f6539824ece6953ee'),\n",
      "  'museo_fecha_fundacion': '1000-01-01'},\n",
      " {'_id': ObjectId('65a7307f6539824ece6953f3'),\n",
      "  'museo_fecha_fundacion': '1000-01-01'},\n",
      " {'_id': ObjectId('65a7307f6539824ece695402'),\n",
      "  'museo_fecha_fundacion': '1000-01-01'},\n",
      " {'_id': ObjectId('65a7307f6539824ece695405'),\n",
      "  'museo_fecha_fundacion': '1000-01-01'},\n",
      " {'_id': ObjectId('65a7307f6539824ece695424'),\n",
      "  'museo_fecha_fundacion': '1000-01-01'},\n",
      " {'_id': ObjectId('65a7307f6539824ece69542f'),\n",
      "  'museo_fecha_fundacion': '1000-01-01'},\n",
      " {'_id': ObjectId('65a7307f6539824ece69543a'),\n",
      "  'museo_fecha_fundacion': '1000-01-01'},\n",
      " {'_id': ObjectId('65a7307f6539824ece69544c'),\n",
      "  'museo_fecha_fundacion': '1000-01-01'},\n",
      " {'_id': ObjectId('65a7307f6539824ece695455'),\n",
      "  'museo_fecha_fundacion': '1000-01-01'},\n",
      " {'_id': ObjectId('65a7307f6539824ece695493'),\n",
      "  'museo_fecha_fundacion': '1000-01-01'},\n",
      " {'_id': ObjectId('65a7307f6539824ece69549a'),\n",
      "  'museo_fecha_fundacion': '1000-01-01'},\n",
      " {'_id': ObjectId('65a7307f6539824ece6954d0'),\n",
      "  'museo_fecha_fundacion': '1000-01-01'},\n",
      " {'_id': ObjectId('65a7307f6539824ece6954d8'),\n",
      "  'museo_fecha_fundacion': '1000-01-01'},\n",
      " {'_id': ObjectId('65a7307f6539824ece6954dd'),\n",
      "  'museo_fecha_fundacion': '1000-01-01'},\n",
      " {'_id': ObjectId('65a7307f6539824ece6954e8'),\n",
      "  'museo_fecha_fundacion': '1000-01-01'},\n",
      " {'_id': ObjectId('65a7307f6539824ece6954ea'),\n",
      "  'museo_fecha_fundacion': '1000-01-01'},\n",
      " {'_id': ObjectId('65a7307f6539824ece6954f3'),\n",
      "  'museo_fecha_fundacion': '1000-01-01'},\n",
      " {'_id': ObjectId('65a7307f6539824ece695502'),\n",
      "  'museo_fecha_fundacion': '1000-01-01'},\n",
      " {'_id': ObjectId('65a7307f6539824ece695518'),\n",
      "  'museo_fecha_fundacion': '1000-01-01'},\n",
      " {'_id': ObjectId('65a7307f6539824ece695525'),\n",
      "  'museo_fecha_fundacion': '1000-01-01'},\n",
      " {'_id': ObjectId('65a7307f6539824ece695535'),\n",
      "  'museo_fecha_fundacion': '1000-01-01'},\n",
      " {'_id': ObjectId('65a7307f6539824ece69555f'),\n",
      "  'museo_fecha_fundacion': '1000-01-01'},\n",
      " {'_id': ObjectId('65a7307f6539824ece69558f'),\n",
      "  'museo_fecha_fundacion': '1000-01-01'}]\n"
     ]
    }
   ],
   "source": [
    "# Find the documents with missing values in museo_tematica_n1\n",
    "query_fecha = {\"museo_fecha_fundacion\" : \"1000-01-01\",}\n",
    "field_fecha = {\"museo_fecha_fundacion\" : True,}\n",
    "\n",
    "fecha = museos.find(query_fecha, field_fecha)\n",
    "pprint(list(fecha))"
   ]
  },
  {
   "cell_type": "code",
   "execution_count": 15,
   "id": "336feb9d",
   "metadata": {},
   "outputs": [
    {
     "data": {
      "text/plain": [
       "102"
      ]
     },
     "execution_count": 15,
     "metadata": {},
     "output_type": "execute_result"
    }
   ],
   "source": [
    "museos.count_documents({'museo_fecha_fundacion': '1000-01-01',})"
   ]
  },
  {
   "cell_type": "code",
   "execution_count": 16,
   "id": "d8d1765a",
   "metadata": {},
   "outputs": [
    {
     "data": {
      "text/plain": [
       "<pymongo.results.UpdateResult at 0x25cec941000>"
      ]
     },
     "execution_count": 16,
     "metadata": {},
     "output_type": "execute_result"
    }
   ],
   "source": [
    "# Update the documents found with NA\n",
    "new_fecha = {\"$set\" : {\"museo_fecha_fundacion\" : \"NA\"}}\n",
    "museos.update_many(query_fecha, new_fecha)"
   ]
  },
  {
   "cell_type": "code",
   "execution_count": 17,
   "id": "2e9fdc18",
   "metadata": {},
   "outputs": [
    {
     "data": {
      "text/plain": [
       "0"
      ]
     },
     "execution_count": 17,
     "metadata": {},
     "output_type": "execute_result"
    }
   ],
   "source": [
    "museos.count_documents({'museo_fecha_fundacion': '1000-01-01',})"
   ]
  },
  {
   "cell_type": "code",
   "execution_count": 18,
   "id": "edbcc223",
   "metadata": {},
   "outputs": [
    {
     "data": {
      "text/plain": [
       "102"
      ]
     },
     "execution_count": 18,
     "metadata": {},
     "output_type": "execute_result"
    }
   ],
   "source": [
    "museos.count_documents({'museo_fecha_fundacion': 'NA',})"
   ]
  },
  {
   "cell_type": "markdown",
   "id": "c5f36c6f",
   "metadata": {},
   "source": [
    "Identify the documents with gmaps_longitud = 0 and gmaps_longitud = 0 and set to \"\""
   ]
  },
  {
   "cell_type": "code",
   "execution_count": 19,
   "id": "fb2cc24c",
   "metadata": {},
   "outputs": [
    {
     "name": "stdout",
     "output_type": "stream",
     "text": [
      "[{'_id': ObjectId('65a7307e6539824ece694f76'),\n",
      "  'gmaps_latitud': 0,\n",
      "  'gmaps_longitud': 0},\n",
      " {'_id': ObjectId('65a7307e6539824ece694f83'),\n",
      "  'gmaps_latitud': 0,\n",
      "  'gmaps_longitud': 0},\n",
      " {'_id': ObjectId('65a7307e6539824ece694fab'),\n",
      "  'gmaps_latitud': 0,\n",
      "  'gmaps_longitud': 0},\n",
      " {'_id': ObjectId('65a7307e6539824ece694fb2'),\n",
      "  'gmaps_latitud': 0,\n",
      "  'gmaps_longitud': 0},\n",
      " {'_id': ObjectId('65a7307e6539824ece694fbd'),\n",
      "  'gmaps_latitud': 0,\n",
      "  'gmaps_longitud': 0},\n",
      " {'_id': ObjectId('65a7307e6539824ece694fe1'),\n",
      "  'gmaps_latitud': 0,\n",
      "  'gmaps_longitud': 0},\n",
      " {'_id': ObjectId('65a7307e6539824ece694fe9'),\n",
      "  'gmaps_latitud': 0,\n",
      "  'gmaps_longitud': 0},\n",
      " {'_id': ObjectId('65a7307e6539824ece694ff3'),\n",
      "  'gmaps_latitud': 0,\n",
      "  'gmaps_longitud': 0},\n",
      " {'_id': ObjectId('65a7307e6539824ece694ff7'),\n",
      "  'gmaps_latitud': 0,\n",
      "  'gmaps_longitud': 0},\n",
      " {'_id': ObjectId('65a7307e6539824ece694ffa'),\n",
      "  'gmaps_latitud': 0,\n",
      "  'gmaps_longitud': 0},\n",
      " {'_id': ObjectId('65a7307e6539824ece694ffc'),\n",
      "  'gmaps_latitud': 0,\n",
      "  'gmaps_longitud': 0},\n",
      " {'_id': ObjectId('65a7307e6539824ece695003'),\n",
      "  'gmaps_latitud': 0,\n",
      "  'gmaps_longitud': 0},\n",
      " {'_id': ObjectId('65a7307e6539824ece695007'),\n",
      "  'gmaps_latitud': 0,\n",
      "  'gmaps_longitud': 0},\n",
      " {'_id': ObjectId('65a7307e6539824ece69500d'),\n",
      "  'gmaps_latitud': 0,\n",
      "  'gmaps_longitud': 0},\n",
      " {'_id': ObjectId('65a7307e6539824ece69501e'),\n",
      "  'gmaps_latitud': 0,\n",
      "  'gmaps_longitud': 0},\n",
      " {'_id': ObjectId('65a7307e6539824ece69502e'),\n",
      "  'gmaps_latitud': 0,\n",
      "  'gmaps_longitud': 0},\n",
      " {'_id': ObjectId('65a7307e6539824ece69502f'),\n",
      "  'gmaps_latitud': 0,\n",
      "  'gmaps_longitud': 0},\n",
      " {'_id': ObjectId('65a7307e6539824ece695030'),\n",
      "  'gmaps_latitud': 0,\n",
      "  'gmaps_longitud': 0},\n",
      " {'_id': ObjectId('65a7307e6539824ece695037'),\n",
      "  'gmaps_latitud': 0,\n",
      "  'gmaps_longitud': 0},\n",
      " {'_id': ObjectId('65a7307e6539824ece69503b'),\n",
      "  'gmaps_latitud': 0,\n",
      "  'gmaps_longitud': 0},\n",
      " {'_id': ObjectId('65a7307e6539824ece695067'),\n",
      "  'gmaps_latitud': 0,\n",
      "  'gmaps_longitud': 0},\n",
      " {'_id': ObjectId('65a7307e6539824ece695123'),\n",
      "  'gmaps_latitud': 0,\n",
      "  'gmaps_longitud': 0},\n",
      " {'_id': ObjectId('65a7307e6539824ece69514b'),\n",
      "  'gmaps_latitud': 0,\n",
      "  'gmaps_longitud': 0},\n",
      " {'_id': ObjectId('65a7307e6539824ece695199'),\n",
      "  'gmaps_latitud': 0,\n",
      "  'gmaps_longitud': 0},\n",
      " {'_id': ObjectId('65a7307e6539824ece69519a'),\n",
      "  'gmaps_latitud': 0,\n",
      "  'gmaps_longitud': 0},\n",
      " {'_id': ObjectId('65a7307e6539824ece6951b2'),\n",
      "  'gmaps_latitud': 0,\n",
      "  'gmaps_longitud': 0},\n",
      " {'_id': ObjectId('65a7307e6539824ece6951be'),\n",
      "  'gmaps_latitud': 0,\n",
      "  'gmaps_longitud': 0},\n",
      " {'_id': ObjectId('65a7307e6539824ece6951c7'),\n",
      "  'gmaps_latitud': 0,\n",
      "  'gmaps_longitud': 0},\n",
      " {'_id': ObjectId('65a7307e6539824ece6951e4'),\n",
      "  'gmaps_latitud': 0,\n",
      "  'gmaps_longitud': 0},\n",
      " {'_id': ObjectId('65a7307e6539824ece6951e7'),\n",
      "  'gmaps_latitud': 0,\n",
      "  'gmaps_longitud': 0},\n",
      " {'_id': ObjectId('65a7307e6539824ece6951fa'),\n",
      "  'gmaps_latitud': 0,\n",
      "  'gmaps_longitud': 0},\n",
      " {'_id': ObjectId('65a7307e6539824ece6951fd'),\n",
      "  'gmaps_latitud': 0,\n",
      "  'gmaps_longitud': 0},\n",
      " {'_id': ObjectId('65a7307e6539824ece695200'),\n",
      "  'gmaps_latitud': 0,\n",
      "  'gmaps_longitud': 0},\n",
      " {'_id': ObjectId('65a7307e6539824ece695205'),\n",
      "  'gmaps_latitud': 0,\n",
      "  'gmaps_longitud': 0},\n",
      " {'_id': ObjectId('65a7307e6539824ece695206'),\n",
      "  'gmaps_latitud': 0,\n",
      "  'gmaps_longitud': 0},\n",
      " {'_id': ObjectId('65a7307e6539824ece695228'),\n",
      "  'gmaps_latitud': 0,\n",
      "  'gmaps_longitud': 0},\n",
      " {'_id': ObjectId('65a7307e6539824ece695231'),\n",
      "  'gmaps_latitud': 0,\n",
      "  'gmaps_longitud': 0},\n",
      " {'_id': ObjectId('65a7307e6539824ece69523b'),\n",
      "  'gmaps_latitud': 0,\n",
      "  'gmaps_longitud': 0},\n",
      " {'_id': ObjectId('65a7307e6539824ece695252'),\n",
      "  'gmaps_latitud': 0,\n",
      "  'gmaps_longitud': 0},\n",
      " {'_id': ObjectId('65a7307e6539824ece695258'),\n",
      "  'gmaps_latitud': 0,\n",
      "  'gmaps_longitud': 0},\n",
      " {'_id': ObjectId('65a7307e6539824ece69525a'),\n",
      "  'gmaps_latitud': 0,\n",
      "  'gmaps_longitud': 0},\n",
      " {'_id': ObjectId('65a7307e6539824ece695272'),\n",
      "  'gmaps_latitud': 0,\n",
      "  'gmaps_longitud': 0},\n",
      " {'_id': ObjectId('65a7307e6539824ece69527c'),\n",
      "  'gmaps_latitud': 0,\n",
      "  'gmaps_longitud': 0},\n",
      " {'_id': ObjectId('65a7307e6539824ece695281'),\n",
      "  'gmaps_latitud': 0,\n",
      "  'gmaps_longitud': 0},\n",
      " {'_id': ObjectId('65a7307e6539824ece695286'),\n",
      "  'gmaps_latitud': 0,\n",
      "  'gmaps_longitud': 0},\n",
      " {'_id': ObjectId('65a7307e6539824ece69528b'),\n",
      "  'gmaps_latitud': 0,\n",
      "  'gmaps_longitud': 0},\n",
      " {'_id': ObjectId('65a7307e6539824ece695290'),\n",
      "  'gmaps_latitud': 0,\n",
      "  'gmaps_longitud': 0},\n",
      " {'_id': ObjectId('65a7307e6539824ece6952a0'),\n",
      "  'gmaps_latitud': 0,\n",
      "  'gmaps_longitud': 0},\n",
      " {'_id': ObjectId('65a7307e6539824ece6952b7'),\n",
      "  'gmaps_latitud': 0,\n",
      "  'gmaps_longitud': 0},\n",
      " {'_id': ObjectId('65a7307e6539824ece6952ba'),\n",
      "  'gmaps_latitud': 0,\n",
      "  'gmaps_longitud': 0},\n",
      " {'_id': ObjectId('65a7307e6539824ece6952d5'),\n",
      "  'gmaps_latitud': 0,\n",
      "  'gmaps_longitud': 0},\n",
      " {'_id': ObjectId('65a7307e6539824ece6952d6'),\n",
      "  'gmaps_latitud': 0,\n",
      "  'gmaps_longitud': 0},\n",
      " {'_id': ObjectId('65a7307e6539824ece6952db'),\n",
      "  'gmaps_latitud': 0,\n",
      "  'gmaps_longitud': 0},\n",
      " {'_id': ObjectId('65a7307e6539824ece6952df'),\n",
      "  'gmaps_latitud': 0,\n",
      "  'gmaps_longitud': 0},\n",
      " {'_id': ObjectId('65a7307e6539824ece6952ee'),\n",
      "  'gmaps_latitud': 0,\n",
      "  'gmaps_longitud': 0},\n",
      " {'_id': ObjectId('65a7307e6539824ece69530d'),\n",
      "  'gmaps_latitud': 0,\n",
      "  'gmaps_longitud': 0},\n",
      " {'_id': ObjectId('65a7307f6539824ece69535b'),\n",
      "  'gmaps_latitud': 0,\n",
      "  'gmaps_longitud': 0},\n",
      " {'_id': ObjectId('65a7307f6539824ece69536f'),\n",
      "  'gmaps_latitud': 0,\n",
      "  'gmaps_longitud': 0},\n",
      " {'_id': ObjectId('65a7307f6539824ece695370'),\n",
      "  'gmaps_latitud': 0,\n",
      "  'gmaps_longitud': 0},\n",
      " {'_id': ObjectId('65a7307f6539824ece695371'),\n",
      "  'gmaps_latitud': 0,\n",
      "  'gmaps_longitud': 0},\n",
      " {'_id': ObjectId('65a7307f6539824ece695373'),\n",
      "  'gmaps_latitud': 0,\n",
      "  'gmaps_longitud': 0},\n",
      " {'_id': ObjectId('65a7307f6539824ece695374'),\n",
      "  'gmaps_latitud': 0,\n",
      "  'gmaps_longitud': 0},\n",
      " {'_id': ObjectId('65a7307f6539824ece695379'),\n",
      "  'gmaps_latitud': 0,\n",
      "  'gmaps_longitud': 0},\n",
      " {'_id': ObjectId('65a7307f6539824ece69537a'),\n",
      "  'gmaps_latitud': 0,\n",
      "  'gmaps_longitud': 0},\n",
      " {'_id': ObjectId('65a7307f6539824ece69537f'),\n",
      "  'gmaps_latitud': 0,\n",
      "  'gmaps_longitud': 0},\n",
      " {'_id': ObjectId('65a7307f6539824ece695383'),\n",
      "  'gmaps_latitud': 0,\n",
      "  'gmaps_longitud': 0},\n",
      " {'_id': ObjectId('65a7307f6539824ece695384'),\n",
      "  'gmaps_latitud': 0,\n",
      "  'gmaps_longitud': 0},\n",
      " {'_id': ObjectId('65a7307f6539824ece695385'),\n",
      "  'gmaps_latitud': 0,\n",
      "  'gmaps_longitud': 0},\n",
      " {'_id': ObjectId('65a7307f6539824ece695386'),\n",
      "  'gmaps_latitud': 0,\n",
      "  'gmaps_longitud': 0},\n",
      " {'_id': ObjectId('65a7307f6539824ece695387'),\n",
      "  'gmaps_latitud': 0,\n",
      "  'gmaps_longitud': 0},\n",
      " {'_id': ObjectId('65a7307f6539824ece695389'),\n",
      "  'gmaps_latitud': 0,\n",
      "  'gmaps_longitud': 0},\n",
      " {'_id': ObjectId('65a7307f6539824ece69538b'),\n",
      "  'gmaps_latitud': 0,\n",
      "  'gmaps_longitud': 0},\n",
      " {'_id': ObjectId('65a7307f6539824ece69538c'),\n",
      "  'gmaps_latitud': 0,\n",
      "  'gmaps_longitud': 0},\n",
      " {'_id': ObjectId('65a7307f6539824ece69538d'),\n",
      "  'gmaps_latitud': 0,\n",
      "  'gmaps_longitud': 0},\n",
      " {'_id': ObjectId('65a7307f6539824ece6953cc'),\n",
      "  'gmaps_latitud': 0,\n",
      "  'gmaps_longitud': 0},\n",
      " {'_id': ObjectId('65a7307f6539824ece6953ea'),\n",
      "  'gmaps_latitud': 0,\n",
      "  'gmaps_longitud': 0},\n",
      " {'_id': ObjectId('65a7307f6539824ece695465'),\n",
      "  'gmaps_latitud': 0,\n",
      "  'gmaps_longitud': 0},\n",
      " {'_id': ObjectId('65a7307f6539824ece695475'),\n",
      "  'gmaps_latitud': 0,\n",
      "  'gmaps_longitud': 0},\n",
      " {'_id': ObjectId('65a7307f6539824ece695477'),\n",
      "  'gmaps_latitud': 0,\n",
      "  'gmaps_longitud': 0},\n",
      " {'_id': ObjectId('65a7307f6539824ece69548b'),\n",
      "  'gmaps_latitud': 0,\n",
      "  'gmaps_longitud': 0},\n",
      " {'_id': ObjectId('65a7307f6539824ece6954b2'),\n",
      "  'gmaps_latitud': 0,\n",
      "  'gmaps_longitud': 0},\n",
      " {'_id': ObjectId('65a7307f6539824ece6954b7'),\n",
      "  'gmaps_latitud': 0,\n",
      "  'gmaps_longitud': 0},\n",
      " {'_id': ObjectId('65a7307f6539824ece6954da'),\n",
      "  'gmaps_latitud': 0,\n",
      "  'gmaps_longitud': 0},\n",
      " {'_id': ObjectId('65a7307f6539824ece6954eb'),\n",
      "  'gmaps_latitud': 0,\n",
      "  'gmaps_longitud': 0},\n",
      " {'_id': ObjectId('65a7307f6539824ece695564'),\n",
      "  'gmaps_latitud': 0,\n",
      "  'gmaps_longitud': 0},\n",
      " {'_id': ObjectId('65a7307f6539824ece695583'),\n",
      "  'gmaps_latitud': 0,\n",
      "  'gmaps_longitud': 0},\n",
      " {'_id': ObjectId('65a7307f6539824ece695591'),\n",
      "  'gmaps_latitud': 0,\n",
      "  'gmaps_longitud': 0}]\n"
     ]
    }
   ],
   "source": [
    "# Find the documents with gmaps_longitud = 0 and gmaps_longitud = 0\n",
    "query_lnglat = {\"gmaps_longitud\" : 0,}\n",
    "field_lnglat = {\"gmaps_longitud\" : True, \"gmaps_latitud\" : True,}\n",
    "\n",
    "lnglat = museos.find(query_lnglat, field_lnglat)\n",
    "pprint(list(lnglat))"
   ]
  },
  {
   "cell_type": "code",
   "execution_count": 20,
   "id": "5a3e734a",
   "metadata": {},
   "outputs": [
    {
     "data": {
      "text/plain": [
       "87"
      ]
     },
     "execution_count": 20,
     "metadata": {},
     "output_type": "execute_result"
    }
   ],
   "source": [
    "museos.count_documents(query_lnglat)"
   ]
  },
  {
   "cell_type": "code",
   "execution_count": 24,
   "id": "95570aa1",
   "metadata": {},
   "outputs": [
    {
     "data": {
      "text/plain": [
       "<pymongo.results.UpdateResult at 0x25ced076cc0>"
      ]
     },
     "execution_count": 24,
     "metadata": {},
     "output_type": "execute_result"
    }
   ],
   "source": [
    "# Update the documents found with \"\"\n",
    "new_lnglat = {\"$set\" : {\"gmaps_longitud\" : \"\", \"gmaps_latitud\" : \"\"}}\n",
    "museos.update_many(query_lnglat, new_lnglat)"
   ]
  },
  {
   "cell_type": "code",
   "execution_count": 25,
   "id": "6319d7f0",
   "metadata": {},
   "outputs": [
    {
     "data": {
      "text/plain": [
       "0"
      ]
     },
     "execution_count": 25,
     "metadata": {},
     "output_type": "execute_result"
    }
   ],
   "source": [
    "museos.count_documents(query_lnglat)"
   ]
  },
  {
   "cell_type": "code",
   "execution_count": 8,
   "id": "c2da7648",
   "metadata": {},
   "outputs": [],
   "source": [
    "# Create a dictionary for the new restaurant data\n",
    "new_restaurant = {\n",
    "    \"BusinessName\":\"Penang Flavours\",\n",
    "    \"BusinessType\":\"Restaurant/Cafe/Canteen\",\n",
    "    \"BusinessTypeID\":\"\",\n",
    "    \"AddressLine1\":\"Penang Flavours\",\n",
    "    \"AddressLine2\":\"146A Plumstead Rd\",\n",
    "    \"AddressLine3\":\"London\",\n",
    "    \"AddressLine4\":\"\",\n",
    "    \"PostCode\":\"SE18 7DY\",\n",
    "    \"Phone\":\"\",\n",
    "    \"LocalAuthorityCode\":\"511\",\n",
    "    \"LocalAuthorityName\":\"Greenwich\",\n",
    "    \"LocalAuthorityWebSite\":\"http://www.royalgreenwich.gov.uk\",\n",
    "    \"LocalAuthorityEmailAddress\":\"health@royalgreenwich.gov.uk\",\n",
    "    \"scores\":{\n",
    "        \"Hygiene\":\"\",\n",
    "        \"Structural\":\"\",\n",
    "        \"ConfidenceInManagement\":\"\"\n",
    "    },\n",
    "    \"SchemeType\":\"FHRS\",\n",
    "    \"geocode\":{\n",
    "        \"longitude\":\"0.08384000\",\n",
    "        \"latitude\":\"51.49014200\"\n",
    "    },\n",
    "    \"RightToReply\":\"\",\n",
    "    \"Distance\":4623.9723280747176,\n",
    "    \"NewRatingPending\":True\n",
    "}"
   ]
  },
  {
   "cell_type": "code",
   "execution_count": 9,
   "id": "a6e5cece",
   "metadata": {},
   "outputs": [
    {
     "data": {
      "text/plain": [
       "<pymongo.results.InsertOneResult at 0x27065662d80>"
      ]
     },
     "execution_count": 9,
     "metadata": {},
     "output_type": "execute_result"
    }
   ],
   "source": [
    "# Insert the new restaurant into the collection\n",
    "establishments.insert_one(new_restaurant)"
   ]
  },
  {
   "cell_type": "code",
   "execution_count": 10,
   "id": "63bb10f9",
   "metadata": {},
   "outputs": [
    {
     "name": "stdout",
     "output_type": "stream",
     "text": [
      "[{'AddressLine1': 'Penang Flavours',\n",
      "  'AddressLine2': '146A Plumstead Rd',\n",
      "  'AddressLine3': 'London',\n",
      "  'AddressLine4': '',\n",
      "  'BusinessName': 'Penang Flavours',\n",
      "  'BusinessType': 'Restaurant/Cafe/Canteen',\n",
      "  'BusinessTypeID': '',\n",
      "  'Distance': 4623.972328074718,\n",
      "  'LocalAuthorityCode': '511',\n",
      "  'LocalAuthorityEmailAddress': 'health@royalgreenwich.gov.uk',\n",
      "  'LocalAuthorityName': 'Greenwich',\n",
      "  'LocalAuthorityWebSite': 'http://www.royalgreenwich.gov.uk',\n",
      "  'NewRatingPending': True,\n",
      "  'Phone': '',\n",
      "  'PostCode': 'SE18 7DY',\n",
      "  'RightToReply': '',\n",
      "  'SchemeType': 'FHRS',\n",
      "  '_id': ObjectId('657892f1eaef475f5f2b0424'),\n",
      "  'geocode': {'latitude': '51.49014200', 'longitude': '0.08384000'},\n",
      "  'scores': {'ConfidenceInManagement': '', 'Hygiene': '', 'Structural': ''}}]\n"
     ]
    }
   ],
   "source": [
    "# Check that the new restaurant was inserted\n",
    "pprint(list(establishments.find(new_restaurant)))"
   ]
  },
  {
   "cell_type": "markdown",
   "id": "0ef4395a",
   "metadata": {},
   "source": [
    "2. Find the BusinessTypeID for \"Restaurant/Cafe/Canteen\" and return only the `BusinessTypeID` and `BusinessType` fields."
   ]
  },
  {
   "cell_type": "code",
   "execution_count": 11,
   "id": "93c63829",
   "metadata": {},
   "outputs": [
    {
     "name": "stdout",
     "output_type": "stream",
     "text": [
      "[{'BusinessType': 'Restaurant/Cafe/Canteen',\n",
      "  'BusinessTypeID': 1,\n",
      "  '_id': ObjectId('6578928ee1e40eca6a34db84')},\n",
      " {'BusinessType': 'Restaurant/Cafe/Canteen',\n",
      "  'BusinessTypeID': 1,\n",
      "  '_id': ObjectId('6578928ee1e40eca6a34db85')},\n",
      " {'BusinessType': 'Restaurant/Cafe/Canteen',\n",
      "  'BusinessTypeID': 1,\n",
      "  '_id': ObjectId('6578928ee1e40eca6a34db87')},\n",
      " {'BusinessType': 'Restaurant/Cafe/Canteen',\n",
      "  'BusinessTypeID': 1,\n",
      "  '_id': ObjectId('6578928ee1e40eca6a34db88')},\n",
      " {'BusinessType': 'Restaurant/Cafe/Canteen',\n",
      "  'BusinessTypeID': 1,\n",
      "  '_id': ObjectId('6578928ee1e40eca6a34db8a')}]\n"
     ]
    }
   ],
   "source": [
    "# Find the BusinessTypeID for \"Restaurant/Cafe/Canteen\" and return only the BusinessTypeID and BusinessType fields\n",
    "query_btid = {\"BusinessType\" : \"Restaurant/Cafe/Canteen\",}\n",
    "field_btid = {\"BusinessType\" : True, \"BusinessTypeID\" : True,}\n",
    "limit_btid = 5\n",
    "\n",
    "btid = establishments.find(query_btid, field_btid).limit(limit_btid)\n",
    "pprint(list(btid))"
   ]
  },
  {
   "cell_type": "markdown",
   "id": "4e570caf",
   "metadata": {},
   "source": [
    "3. Update the new restaurant with the `BusinessTypeID` you found."
   ]
  },
  {
   "cell_type": "code",
   "execution_count": 12,
   "id": "7f599f3d",
   "metadata": {},
   "outputs": [
    {
     "data": {
      "text/plain": [
       "<pymongo.results.UpdateResult at 0x27064ac57c0>"
      ]
     },
     "execution_count": 12,
     "metadata": {},
     "output_type": "execute_result"
    }
   ],
   "source": [
    "# Update the new restaurant with the correct BusinessTypeID\n",
    "new_btid = {\"$set\" : {\"BusinessTypeID\" : 1}}\n",
    "establishments.update_one({\"BusinessName\": \"Penang Flavours\"}, new_btid)"
   ]
  },
  {
   "cell_type": "code",
   "execution_count": 13,
   "id": "a6ad16f7",
   "metadata": {},
   "outputs": [
    {
     "name": "stdout",
     "output_type": "stream",
     "text": [
      "[{'AddressLine1': 'Penang Flavours',\n",
      "  'AddressLine2': '146A Plumstead Rd',\n",
      "  'AddressLine3': 'London',\n",
      "  'AddressLine4': '',\n",
      "  'BusinessName': 'Penang Flavours',\n",
      "  'BusinessType': 'Restaurant/Cafe/Canteen',\n",
      "  'BusinessTypeID': 1,\n",
      "  'Distance': 4623.972328074718,\n",
      "  'LocalAuthorityCode': '511',\n",
      "  'LocalAuthorityEmailAddress': 'health@royalgreenwich.gov.uk',\n",
      "  'LocalAuthorityName': 'Greenwich',\n",
      "  'LocalAuthorityWebSite': 'http://www.royalgreenwich.gov.uk',\n",
      "  'NewRatingPending': True,\n",
      "  'Phone': '',\n",
      "  'PostCode': 'SE18 7DY',\n",
      "  'RightToReply': '',\n",
      "  'SchemeType': 'FHRS',\n",
      "  '_id': ObjectId('657892f1eaef475f5f2b0424'),\n",
      "  'geocode': {'latitude': '51.49014200', 'longitude': '0.08384000'},\n",
      "  'scores': {'ConfidenceInManagement': '', 'Hygiene': '', 'Structural': ''}}]\n"
     ]
    }
   ],
   "source": [
    "# Confirm that the new restaurant was updated\n",
    "pprint(list(establishments.find({\"BusinessName\": \"Penang Flavours\"})))"
   ]
  },
  {
   "cell_type": "markdown",
   "id": "67281254",
   "metadata": {},
   "source": [
    "4. The magazine is not interested in any establishments in Dover, so check how many documents contain the Dover Local Authority. Then, remove any establishments within the Dover Local Authority from the database, and check the number of documents to ensure they were deleted."
   ]
  },
  {
   "cell_type": "code",
   "execution_count": 14,
   "id": "69afdeb0",
   "metadata": {},
   "outputs": [
    {
     "data": {
      "text/plain": [
       "39780"
      ]
     },
     "execution_count": 14,
     "metadata": {},
     "output_type": "execute_result"
    }
   ],
   "source": [
    "# Find how many total documents are there in the collection: 39780 \n",
    "establishments.count_documents({})"
   ]
  },
  {
   "cell_type": "code",
   "execution_count": 15,
   "id": "768474a6",
   "metadata": {},
   "outputs": [
    {
     "data": {
      "text/plain": [
       "994"
      ]
     },
     "execution_count": 15,
     "metadata": {},
     "output_type": "execute_result"
    }
   ],
   "source": [
    "# Find how many documents have LocalAuthorityName as \"Dover\": 994 \n",
    "establishments.count_documents({\"LocalAuthorityName\" : \"Dover\"})"
   ]
  },
  {
   "cell_type": "code",
   "execution_count": 16,
   "id": "a11d5f1b",
   "metadata": {},
   "outputs": [
    {
     "data": {
      "text/plain": [
       "<pymongo.results.DeleteResult at 0x270656627c0>"
      ]
     },
     "execution_count": 16,
     "metadata": {},
     "output_type": "execute_result"
    }
   ],
   "source": [
    "# Delete all documents where LocalAuthorityName is \"Dover\"\n",
    "establishments.delete_many({\"LocalAuthorityName\" : \"Dover\"})"
   ]
  },
  {
   "cell_type": "code",
   "execution_count": 17,
   "id": "2a51aba0",
   "metadata": {},
   "outputs": [
    {
     "data": {
      "text/plain": [
       "0"
      ]
     },
     "execution_count": 17,
     "metadata": {},
     "output_type": "execute_result"
    }
   ],
   "source": [
    "# Check if any remaining documents include Dover: 0\n",
    "establishments.count_documents({\"LocalAuthorityName\" : \"Dover\"})"
   ]
  },
  {
   "cell_type": "code",
   "execution_count": 18,
   "id": "97841059",
   "metadata": {},
   "outputs": [
    {
     "data": {
      "text/plain": [
       "38786"
      ]
     },
     "execution_count": 18,
     "metadata": {},
     "output_type": "execute_result"
    }
   ],
   "source": [
    "# Find how many total documents remain in the collection: 38786 \n",
    "establishments.count_documents({})"
   ]
  },
  {
   "cell_type": "code",
   "execution_count": 19,
   "id": "8c356f7b",
   "metadata": {},
   "outputs": [
    {
     "name": "stdout",
     "output_type": "stream",
     "text": [
      "{'AddressLine1': 'East Cliff Pavilion',\n",
      " 'AddressLine2': 'Wear Bay Road',\n",
      " 'AddressLine3': 'Folkestone',\n",
      " 'AddressLine4': 'Kent',\n",
      " 'BusinessName': 'The Pavilion',\n",
      " 'BusinessType': 'Restaurant/Cafe/Canteen',\n",
      " 'BusinessTypeID': 1,\n",
      " 'ChangesByServerID': 0,\n",
      " 'Distance': 4591.765489457773,\n",
      " 'FHRSID': 1043695,\n",
      " 'LocalAuthorityBusinessID': 'PI/000073616',\n",
      " 'LocalAuthorityCode': '188',\n",
      " 'LocalAuthorityEmailAddress': 'foodteam@folkestone-hythe.gov.uk',\n",
      " 'LocalAuthorityName': 'Folkestone and Hythe',\n",
      " 'LocalAuthorityWebSite': 'http://www.folkestone-hythe.gov.uk',\n",
      " 'NewRatingPending': False,\n",
      " 'Phone': '',\n",
      " 'PostCode': 'CT19 6BL',\n",
      " 'RatingDate': '2018-04-04T00:00:00',\n",
      " 'RatingKey': 'fhrs_5_en-gb',\n",
      " 'RatingValue': '5',\n",
      " 'RightToReply': '',\n",
      " 'SchemeType': 'FHRS',\n",
      " '_id': ObjectId('6578928ee1e40eca6a34de6a'),\n",
      " 'geocode': {'latitude': '51.083812', 'longitude': '1.195625'},\n",
      " 'links': [{'href': 'https://api.ratings.food.gov.uk/establishments/1043695',\n",
      "            'rel': 'self'}],\n",
      " 'meta': {'dataSource': None,\n",
      "          'extractDate': '0001-01-01T00:00:00',\n",
      "          'itemCount': 0,\n",
      "          'pageNumber': 0,\n",
      "          'pageSize': 0,\n",
      "          'returncode': None,\n",
      "          'totalCount': 0,\n",
      "          'totalPages': 0},\n",
      " 'scores': {'ConfidenceInManagement': 5, 'Hygiene': 5, 'Structural': 5}}\n"
     ]
    }
   ],
   "source": [
    "# Check that other documents remain with 'find_one'\n",
    "pprint(establishments.find_one())"
   ]
  },
  {
   "attachments": {},
   "cell_type": "markdown",
   "id": "e9f1662d",
   "metadata": {},
   "source": [
    "5. Some of the number values are stored as strings, when they should be stored as numbers."
   ]
  },
  {
   "attachments": {},
   "cell_type": "markdown",
   "id": "c46df2df",
   "metadata": {},
   "source": [
    "Use `update_many` to convert `latitude` and `longitude` to decimal numbers."
   ]
  },
  {
   "cell_type": "code",
   "execution_count": 20,
   "id": "fd4112ce",
   "metadata": {},
   "outputs": [
    {
     "data": {
      "text/plain": [
       "<pymongo.results.UpdateResult at 0x27064ac7c00>"
      ]
     },
     "execution_count": 20,
     "metadata": {},
     "output_type": "execute_result"
    }
   ],
   "source": [
    "# Change the data type from String to Decimal for longitude and latitude\n",
    "establishments.update_many({}, \n",
    "    [{\"$set\" : {\"geocode.latitude\"  : {\"$toDouble\" : \"$geocode.latitude\"}, \n",
    "                \"geocode.longitude\" : {\"$toDouble\" : \"$geocode.longitude\"} }\n",
    "    }]\n",
    ")"
   ]
  },
  {
   "attachments": {},
   "cell_type": "markdown",
   "id": "142e319c",
   "metadata": {},
   "source": [
    "Use `update_many` to convert `RatingValue` to integer numbers."
   ]
  },
  {
   "cell_type": "code",
   "execution_count": 21,
   "id": "04430a5b",
   "metadata": {},
   "outputs": [
    {
     "data": {
      "text/plain": [
       "<pymongo.results.UpdateResult at 0x27065662a80>"
      ]
     },
     "execution_count": 21,
     "metadata": {},
     "output_type": "execute_result"
    }
   ],
   "source": [
    "# Set non 1-5 Rating Values to Null\n",
    "non_ratings = [\"AwaitingInspection\", \"Awaiting Inspection\", \"AwaitingPublication\", \"Pass\", \"Exempt\"]\n",
    "establishments.update_many({\"RatingValue\": {\"$in\": non_ratings}}, [ {'$set':{ \"RatingValue\" : None}} ])"
   ]
  },
  {
   "cell_type": "code",
   "execution_count": 22,
   "id": "92524ccc",
   "metadata": {},
   "outputs": [
    {
     "data": {
      "text/plain": [
       "<pymongo.results.UpdateResult at 0x2706578ba80>"
      ]
     },
     "execution_count": 22,
     "metadata": {},
     "output_type": "execute_result"
    }
   ],
   "source": [
    "# Change the data type from String to Integer for RatingValue\n",
    "establishments.update_many({}, [{\"$set\" : {\"RatingValue\"  : {\"$toInt\" : \"$RatingValue\"}, } }] )"
   ]
  },
  {
   "cell_type": "code",
   "execution_count": 23,
   "id": "0deacaf9",
   "metadata": {},
   "outputs": [
    {
     "name": "stdout",
     "output_type": "stream",
     "text": [
      "[{'RatingValue': 5,\n",
      "  '_id': ObjectId('6578928ee1e40eca6a34de6a'),\n",
      "  'geocode': {'latitude': 51.083812, 'longitude': 1.195625}},\n",
      " {'RatingValue': 5,\n",
      "  '_id': ObjectId('6578928ee1e40eca6a34de6b'),\n",
      "  'geocode': {'latitude': 51.085797, 'longitude': 1.194762}},\n",
      " {'RatingValue': 4,\n",
      "  '_id': ObjectId('6578928ee1e40eca6a34de6c'),\n",
      "  'geocode': {'latitude': 51.086058, 'longitude': 1.196408}},\n",
      " {'RatingValue': 4,\n",
      "  '_id': ObjectId('6578928ee1e40eca6a34de6e'),\n",
      "  'geocode': {'latitude': 51.08084, 'longitude': 1.188537}},\n",
      " {'RatingValue': 5,\n",
      "  '_id': ObjectId('6578928ee1e40eca6a34de6f'),\n",
      "  'geocode': {'latitude': 51.08084, 'longitude': 1.188537}},\n",
      " {'RatingValue': 5,\n",
      "  '_id': ObjectId('6578928ee1e40eca6a34de71'),\n",
      "  'geocode': {'latitude': 51.08084, 'longitude': 1.188537}},\n",
      " {'RatingValue': 5,\n",
      "  '_id': ObjectId('6578928ee1e40eca6a34de72'),\n",
      "  'geocode': {'latitude': 51.0783519967076, 'longitude': 1.18590330311705}},\n",
      " {'RatingValue': 5,\n",
      "  '_id': ObjectId('6578928ee1e40eca6a34de73'),\n",
      "  'geocode': {'latitude': 51.0783519967076, 'longitude': 1.18590330311705}},\n",
      " {'RatingValue': 4,\n",
      "  '_id': ObjectId('6578928ee1e40eca6a34de74'),\n",
      "  'geocode': {'latitude': 51.0783519967076, 'longitude': 1.18590330311705}},\n",
      " {'RatingValue': 5,\n",
      "  '_id': ObjectId('6578928ee1e40eca6a34de75'),\n",
      "  'geocode': {'latitude': 51.08084, 'longitude': 1.188537}}]\n"
     ]
    }
   ],
   "source": [
    "# Check that the coordinates and rating value are now numbers\n",
    "update_revision = establishments.find({}, {\"geocode\" : True, \"RatingValue\" : True}).limit(10)\n",
    "pprint(list(update_revision))"
   ]
  }
 ],
 "metadata": {
  "kernelspec": {
   "display_name": "Python 3 (ipykernel)",
   "language": "python",
   "name": "python3"
  },
  "language_info": {
   "codemirror_mode": {
    "name": "ipython",
    "version": 3
   },
   "file_extension": ".py",
   "mimetype": "text/x-python",
   "name": "python",
   "nbconvert_exporter": "python",
   "pygments_lexer": "ipython3",
   "version": "3.11.7"
  }
 },
 "nbformat": 4,
 "nbformat_minor": 5
}
