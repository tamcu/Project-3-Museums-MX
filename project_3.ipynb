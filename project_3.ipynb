{
 "cells": [
  {
   "cell_type": "markdown",
   "id": "064ef857",
   "metadata": {},
   "source": [
    "## Part 1: Database and Jupyter Notebook Set Up"
   ]
  },
  {
   "cell_type": "code",
   "execution_count": 1,
   "id": "3ecdd008",
   "metadata": {},
   "outputs": [],
   "source": [
    "# Import dependencies\n",
    "from pymongo import MongoClient\n",
    "from pprint import pprint\n",
    "import pandas as pd"
   ]
  },
  {
   "cell_type": "code",
   "execution_count": 2,
   "id": "59390c4a",
   "metadata": {},
   "outputs": [],
   "source": [
    "# Create an instance of MongoClient\n",
    "mongo = MongoClient(port=27017)"
   ]
  },
  {
   "cell_type": "code",
   "execution_count": 3,
   "id": "7f9ececa",
   "metadata": {},
   "outputs": [
    {
     "name": "stdout",
     "output_type": "stream",
     "text": [
      "['admin',\n",
      " 'autosaurus',\n",
      " 'config',\n",
      " 'epa',\n",
      " 'local',\n",
      " 'met',\n",
      " 'petsitly_marketing',\n",
      " 'project_3',\n",
      " 'travel_db',\n",
      " 'uk_food']\n"
     ]
    }
   ],
   "source": [
    "# confirm that our new database was created\n",
    "pprint(mongo.list_database_names())"
   ]
  },
  {
   "cell_type": "code",
   "execution_count": 4,
   "id": "71e373c1",
   "metadata": {},
   "outputs": [],
   "source": [
    "# assign the uk_food database to a variable name\n",
    "db = mongo['project_3']"
   ]
  },
  {
   "cell_type": "code",
   "execution_count": 5,
   "id": "ef1b89ed",
   "metadata": {},
   "outputs": [
    {
     "data": {
      "text/plain": [
       "['museums_mx']"
      ]
     },
     "execution_count": 5,
     "metadata": {},
     "output_type": "execute_result"
    }
   ],
   "source": [
    "# review the collections in our new database\n",
    "db.list_collection_names()"
   ]
  },
  {
   "cell_type": "code",
   "execution_count": 6,
   "id": "6a0d92df",
   "metadata": {},
   "outputs": [
    {
     "name": "stdout",
     "output_type": "stream",
     "text": [
      "{'_id': ObjectId('65a75f99df46a6e2e49c88c5'),\n",
      " 'email': 'mferrocarrilero@gmail.com',\n",
      " 'estado_id': 1,\n",
      " 'fecha_mod': '2022-11-22T05:52:09-06:00',\n",
      " 'gmaps_latitud': 21.88477,\n",
      " 'gmaps_longitud': -102.28093,\n",
      " 'link_sic': 'http://sic.gob.mx/ficha.php?table=museo&table_id=929',\n",
      " 'localidad_id': 1,\n",
      " 'municipio_id': 1,\n",
      " 'museo_adscripcion': 'Instituto Cultural de Aguascalientes (ICA)/Dirección de '\n",
      "                      'Promoción y Difusión',\n",
      " 'museo_calle_numero': 'Plaza de las Tres Centurias, Av. 28 de Agosto s/n',\n",
      " 'museo_colonia': 'Barrio de La Estación',\n",
      " 'museo_cp': '20059',\n",
      " 'museo_fecha_fundacion': '2003-03-04',\n",
      " 'museo_id': 929,\n",
      " 'museo_nombre': 'Museo Ferrocarrilero',\n",
      " 'museo_telefono1': '449 994 27 61 y 62',\n",
      " 'museo_tematica_n1': 'Historia',\n",
      " 'museo_tipo_de_propiedad': 'público',\n",
      " 'nom_ent': 'Aguascalientes',\n",
      " 'nom_loc': 'Aguascalientes',\n",
      " 'nom_mun': 'Aguascalientes',\n",
      " 'pagina_web': '',\n",
      " 'pagina_web2': '',\n",
      " 'twitter': ''}\n"
     ]
    }
   ],
   "source": [
    "# review a document in the collection\n",
    "pprint(db.museums_mx.find_one())"
   ]
  },
  {
   "cell_type": "code",
   "execution_count": 7,
   "id": "11c9f11b",
   "metadata": {},
   "outputs": [],
   "source": [
    "# assign the collection to a variable\n",
    "museos = db['museums_mx']"
   ]
  },
  {
   "cell_type": "markdown",
   "id": "d5671434",
   "metadata": {},
   "source": [
    "## Part 2: Update the collection"
   ]
  },
  {
   "cell_type": "markdown",
   "id": "314bd884",
   "metadata": {},
   "source": [
    "Identify the documents with missing values in museo_tematica_n1 and set to TND (Temática No Definida)."
   ]
  },
  {
   "cell_type": "code",
   "execution_count": 8,
   "id": "4e4dffa0",
   "metadata": {},
   "outputs": [
    {
     "name": "stdout",
     "output_type": "stream",
     "text": [
      "[{'_id': ObjectId('65a75f99df46a6e2e49c88cd'), 'museo_tematica_n1': ''},\n",
      " {'_id': ObjectId('65a75f99df46a6e2e49c88d2'), 'museo_tematica_n1': ''},\n",
      " {'_id': ObjectId('65a75f99df46a6e2e49c88e5'), 'museo_tematica_n1': ''},\n",
      " {'_id': ObjectId('65a75f99df46a6e2e49c88e7'), 'museo_tematica_n1': ''},\n",
      " {'_id': ObjectId('65a75f99df46a6e2e49c88ef'), 'museo_tematica_n1': ''},\n",
      " {'_id': ObjectId('65a75f99df46a6e2e49c88f0'), 'museo_tematica_n1': ''},\n",
      " {'_id': ObjectId('65a75f99df46a6e2e49c88f3'), 'museo_tematica_n1': ''},\n",
      " {'_id': ObjectId('65a75f99df46a6e2e49c88f5'), 'museo_tematica_n1': ''},\n",
      " {'_id': ObjectId('65a75f99df46a6e2e49c88f8'), 'museo_tematica_n1': ''},\n",
      " {'_id': ObjectId('65a75f99df46a6e2e49c88fc'), 'museo_tematica_n1': ''},\n",
      " {'_id': ObjectId('65a75f99df46a6e2e49c88fe'), 'museo_tematica_n1': ''},\n",
      " {'_id': ObjectId('65a75f99df46a6e2e49c8900'), 'museo_tematica_n1': ''},\n",
      " {'_id': ObjectId('65a75f99df46a6e2e49c8905'), 'museo_tematica_n1': ''},\n",
      " {'_id': ObjectId('65a75f99df46a6e2e49c890a'), 'museo_tematica_n1': ''},\n",
      " {'_id': ObjectId('65a75f99df46a6e2e49c890c'), 'museo_tematica_n1': ''},\n",
      " {'_id': ObjectId('65a75f99df46a6e2e49c890e'), 'museo_tematica_n1': ''},\n",
      " {'_id': ObjectId('65a75f99df46a6e2e49c8910'), 'museo_tematica_n1': ''},\n",
      " {'_id': ObjectId('65a75f99df46a6e2e49c8911'), 'museo_tematica_n1': ''},\n",
      " {'_id': ObjectId('65a75f99df46a6e2e49c8916'), 'museo_tematica_n1': ''},\n",
      " {'_id': ObjectId('65a75f99df46a6e2e49c891a'), 'museo_tematica_n1': ''},\n",
      " {'_id': ObjectId('65a75f99df46a6e2e49c8924'), 'museo_tematica_n1': ''},\n",
      " {'_id': ObjectId('65a75f99df46a6e2e49c8927'), 'museo_tematica_n1': ''},\n",
      " {'_id': ObjectId('65a75f99df46a6e2e49c892a'), 'museo_tematica_n1': ''},\n",
      " {'_id': ObjectId('65a75f99df46a6e2e49c892d'), 'museo_tematica_n1': ''},\n",
      " {'_id': ObjectId('65a75f99df46a6e2e49c8935'), 'museo_tematica_n1': ''},\n",
      " {'_id': ObjectId('65a75f99df46a6e2e49c8947'), 'museo_tematica_n1': ''},\n",
      " {'_id': ObjectId('65a75f99df46a6e2e49c8963'), 'museo_tematica_n1': ''},\n",
      " {'_id': ObjectId('65a75f99df46a6e2e49c896c'), 'museo_tematica_n1': ''},\n",
      " {'_id': ObjectId('65a75f99df46a6e2e49c897d'), 'museo_tematica_n1': ''},\n",
      " {'_id': ObjectId('65a75f99df46a6e2e49c8984'), 'museo_tematica_n1': ''},\n",
      " {'_id': ObjectId('65a75f99df46a6e2e49c8989'), 'museo_tematica_n1': ''},\n",
      " {'_id': ObjectId('65a75f99df46a6e2e49c898c'), 'museo_tematica_n1': ''},\n",
      " {'_id': ObjectId('65a75f99df46a6e2e49c8995'), 'museo_tematica_n1': ''},\n",
      " {'_id': ObjectId('65a75f99df46a6e2e49c899d'), 'museo_tematica_n1': ''},\n",
      " {'_id': ObjectId('65a75f99df46a6e2e49c89a0'), 'museo_tematica_n1': ''},\n",
      " {'_id': ObjectId('65a75f99df46a6e2e49c89a4'), 'museo_tematica_n1': ''},\n",
      " {'_id': ObjectId('65a75f99df46a6e2e49c89ad'), 'museo_tematica_n1': ''},\n",
      " {'_id': ObjectId('65a75f99df46a6e2e49c89bc'), 'museo_tematica_n1': ''},\n",
      " {'_id': ObjectId('65a75f99df46a6e2e49c89c7'), 'museo_tematica_n1': ''},\n",
      " {'_id': ObjectId('65a75f99df46a6e2e49c89cc'), 'museo_tematica_n1': ''},\n",
      " {'_id': ObjectId('65a75f99df46a6e2e49c89dd'), 'museo_tematica_n1': ''},\n",
      " {'_id': ObjectId('65a75f99df46a6e2e49c89ef'), 'museo_tematica_n1': ''},\n",
      " {'_id': ObjectId('65a75f99df46a6e2e49c89f2'), 'museo_tematica_n1': ''},\n",
      " {'_id': ObjectId('65a75f99df46a6e2e49c89f5'), 'museo_tematica_n1': ''},\n",
      " {'_id': ObjectId('65a75f99df46a6e2e49c89f7'), 'museo_tematica_n1': ''},\n",
      " {'_id': ObjectId('65a75f99df46a6e2e49c89f8'), 'museo_tematica_n1': ''},\n",
      " {'_id': ObjectId('65a75f99df46a6e2e49c89fe'), 'museo_tematica_n1': ''},\n",
      " {'_id': ObjectId('65a75f99df46a6e2e49c8a01'), 'museo_tematica_n1': ''},\n",
      " {'_id': ObjectId('65a75f99df46a6e2e49c8a02'), 'museo_tematica_n1': ''},\n",
      " {'_id': ObjectId('65a75f99df46a6e2e49c8a0c'), 'museo_tematica_n1': ''},\n",
      " {'_id': ObjectId('65a75f99df46a6e2e49c8a10'), 'museo_tematica_n1': ''},\n",
      " {'_id': ObjectId('65a75f99df46a6e2e49c8a13'), 'museo_tematica_n1': ''},\n",
      " {'_id': ObjectId('65a75f99df46a6e2e49c8a19'), 'museo_tematica_n1': ''},\n",
      " {'_id': ObjectId('65a75f99df46a6e2e49c8a1d'), 'museo_tematica_n1': ''},\n",
      " {'_id': ObjectId('65a75f99df46a6e2e49c8a20'), 'museo_tematica_n1': ''},\n",
      " {'_id': ObjectId('65a75f99df46a6e2e49c8a21'), 'museo_tematica_n1': ''},\n",
      " {'_id': ObjectId('65a75f99df46a6e2e49c8a34'), 'museo_tematica_n1': ''},\n",
      " {'_id': ObjectId('65a75f99df46a6e2e49c8a38'), 'museo_tematica_n1': ''},\n",
      " {'_id': ObjectId('65a75f99df46a6e2e49c8a39'), 'museo_tematica_n1': ''},\n",
      " {'_id': ObjectId('65a75f99df46a6e2e49c8a3c'), 'museo_tematica_n1': ''},\n",
      " {'_id': ObjectId('65a75f99df46a6e2e49c8a3f'), 'museo_tematica_n1': ''},\n",
      " {'_id': ObjectId('65a75f99df46a6e2e49c8a41'), 'museo_tematica_n1': ''},\n",
      " {'_id': ObjectId('65a75f99df46a6e2e49c8a43'), 'museo_tematica_n1': ''},\n",
      " {'_id': ObjectId('65a75f99df46a6e2e49c8a44'), 'museo_tematica_n1': ''},\n",
      " {'_id': ObjectId('65a75f99df46a6e2e49c8a45'), 'museo_tematica_n1': ''},\n",
      " {'_id': ObjectId('65a75f99df46a6e2e49c8a46'), 'museo_tematica_n1': ''},\n",
      " {'_id': ObjectId('65a75f99df46a6e2e49c8a4e'), 'museo_tematica_n1': ''},\n",
      " {'_id': ObjectId('65a75f99df46a6e2e49c8a58'), 'museo_tematica_n1': ''},\n",
      " {'_id': ObjectId('65a75f99df46a6e2e49c8a6e'), 'museo_tematica_n1': ''},\n",
      " {'_id': ObjectId('65a75f99df46a6e2e49c8a72'), 'museo_tematica_n1': ''},\n",
      " {'_id': ObjectId('65a75f99df46a6e2e49c8a76'), 'museo_tematica_n1': ''},\n",
      " {'_id': ObjectId('65a75f99df46a6e2e49c8a77'), 'museo_tematica_n1': ''},\n",
      " {'_id': ObjectId('65a75f99df46a6e2e49c8a81'), 'museo_tematica_n1': ''},\n",
      " {'_id': ObjectId('65a75f99df46a6e2e49c8a82'), 'museo_tematica_n1': ''},\n",
      " {'_id': ObjectId('65a75f99df46a6e2e49c8a88'), 'museo_tematica_n1': ''},\n",
      " {'_id': ObjectId('65a75f99df46a6e2e49c8aa0'), 'museo_tematica_n1': ''},\n",
      " {'_id': ObjectId('65a75f99df46a6e2e49c8abd'), 'museo_tematica_n1': ''},\n",
      " {'_id': ObjectId('65a75f99df46a6e2e49c8ac5'), 'museo_tematica_n1': ''},\n",
      " {'_id': ObjectId('65a75f99df46a6e2e49c8ac7'), 'museo_tematica_n1': ''},\n",
      " {'_id': ObjectId('65a75f99df46a6e2e49c8acc'), 'museo_tematica_n1': ''},\n",
      " {'_id': ObjectId('65a75f99df46a6e2e49c8ad6'), 'museo_tematica_n1': ''},\n",
      " {'_id': ObjectId('65a75f99df46a6e2e49c8ae2'), 'museo_tematica_n1': ''},\n",
      " {'_id': ObjectId('65a75f99df46a6e2e49c8ae4'), 'museo_tematica_n1': ''},\n",
      " {'_id': ObjectId('65a75f99df46a6e2e49c8ae8'), 'museo_tematica_n1': ''},\n",
      " {'_id': ObjectId('65a75f99df46a6e2e49c8aef'), 'museo_tematica_n1': ''},\n",
      " {'_id': ObjectId('65a75f99df46a6e2e49c8af1'), 'museo_tematica_n1': ''},\n",
      " {'_id': ObjectId('65a75f99df46a6e2e49c8af2'), 'museo_tematica_n1': ''},\n",
      " {'_id': ObjectId('65a75f99df46a6e2e49c8af4'), 'museo_tematica_n1': ''},\n",
      " {'_id': ObjectId('65a75f99df46a6e2e49c8af8'), 'museo_tematica_n1': ''},\n",
      " {'_id': ObjectId('65a75f99df46a6e2e49c8afa'), 'museo_tematica_n1': ''},\n",
      " {'_id': ObjectId('65a75f99df46a6e2e49c8afc'), 'museo_tematica_n1': ''},\n",
      " {'_id': ObjectId('65a75f99df46a6e2e49c8aff'), 'museo_tematica_n1': ''},\n",
      " {'_id': ObjectId('65a75f99df46a6e2e49c8b01'), 'museo_tematica_n1': ''},\n",
      " {'_id': ObjectId('65a75f99df46a6e2e49c8b04'), 'museo_tematica_n1': ''},\n",
      " {'_id': ObjectId('65a75f99df46a6e2e49c8b07'), 'museo_tematica_n1': ''},\n",
      " {'_id': ObjectId('65a75f99df46a6e2e49c8b09'), 'museo_tematica_n1': ''},\n",
      " {'_id': ObjectId('65a75f99df46a6e2e49c8b0c'), 'museo_tematica_n1': ''},\n",
      " {'_id': ObjectId('65a75f99df46a6e2e49c8b0d'), 'museo_tematica_n1': ''},\n",
      " {'_id': ObjectId('65a75f99df46a6e2e49c8b0e'), 'museo_tematica_n1': ''},\n",
      " {'_id': ObjectId('65a75f99df46a6e2e49c8b0f'), 'museo_tematica_n1': ''},\n",
      " {'_id': ObjectId('65a75f99df46a6e2e49c8b11'), 'museo_tematica_n1': ''},\n",
      " {'_id': ObjectId('65a75f99df46a6e2e49c8b15'), 'museo_tematica_n1': ''},\n",
      " {'_id': ObjectId('65a75f99df46a6e2e49c8b17'), 'museo_tematica_n1': ''},\n",
      " {'_id': ObjectId('65a75f99df46a6e2e49c8b18'), 'museo_tematica_n1': ''},\n",
      " {'_id': ObjectId('65a75f99df46a6e2e49c8b1b'), 'museo_tematica_n1': ''},\n",
      " {'_id': ObjectId('65a75f99df46a6e2e49c8b1d'), 'museo_tematica_n1': ''},\n",
      " {'_id': ObjectId('65a75f99df46a6e2e49c8b1f'), 'museo_tematica_n1': ''},\n",
      " {'_id': ObjectId('65a75f99df46a6e2e49c8b23'), 'museo_tematica_n1': ''},\n",
      " {'_id': ObjectId('65a75f99df46a6e2e49c8b25'), 'museo_tematica_n1': ''},\n",
      " {'_id': ObjectId('65a75f99df46a6e2e49c8b2b'), 'museo_tematica_n1': ''},\n",
      " {'_id': ObjectId('65a75f99df46a6e2e49c8b2e'), 'museo_tematica_n1': ''},\n",
      " {'_id': ObjectId('65a75f99df46a6e2e49c8b2f'), 'museo_tematica_n1': ''},\n",
      " {'_id': ObjectId('65a75f99df46a6e2e49c8b30'), 'museo_tematica_n1': ''},\n",
      " {'_id': ObjectId('65a75f99df46a6e2e49c8b31'), 'museo_tematica_n1': ''},\n",
      " {'_id': ObjectId('65a75f99df46a6e2e49c8b32'), 'museo_tematica_n1': ''},\n",
      " {'_id': ObjectId('65a75f99df46a6e2e49c8b38'), 'museo_tematica_n1': ''},\n",
      " {'_id': ObjectId('65a75f99df46a6e2e49c8b3b'), 'museo_tematica_n1': ''},\n",
      " {'_id': ObjectId('65a75f99df46a6e2e49c8b3d'), 'museo_tematica_n1': ''},\n",
      " {'_id': ObjectId('65a75f99df46a6e2e49c8b3f'), 'museo_tematica_n1': ''},\n",
      " {'_id': ObjectId('65a75f99df46a6e2e49c8b40'), 'museo_tematica_n1': ''},\n",
      " {'_id': ObjectId('65a75f99df46a6e2e49c8b41'), 'museo_tematica_n1': ''},\n",
      " {'_id': ObjectId('65a75f99df46a6e2e49c8b42'), 'museo_tematica_n1': ''},\n",
      " {'_id': ObjectId('65a75f99df46a6e2e49c8b48'), 'museo_tematica_n1': ''},\n",
      " {'_id': ObjectId('65a75f99df46a6e2e49c8b49'), 'museo_tematica_n1': ''},\n",
      " {'_id': ObjectId('65a75f99df46a6e2e49c8b4b'), 'museo_tematica_n1': ''},\n",
      " {'_id': ObjectId('65a75f99df46a6e2e49c8b4c'), 'museo_tematica_n1': ''},\n",
      " {'_id': ObjectId('65a75f99df46a6e2e49c8b4d'), 'museo_tematica_n1': ''},\n",
      " {'_id': ObjectId('65a75f99df46a6e2e49c8b52'), 'museo_tematica_n1': ''},\n",
      " {'_id': ObjectId('65a75f99df46a6e2e49c8b55'), 'museo_tematica_n1': ''},\n",
      " {'_id': ObjectId('65a75f99df46a6e2e49c8b5c'), 'museo_tematica_n1': ''},\n",
      " {'_id': ObjectId('65a75f99df46a6e2e49c8b5d'), 'museo_tematica_n1': ''},\n",
      " {'_id': ObjectId('65a75f99df46a6e2e49c8b63'), 'museo_tematica_n1': ''},\n",
      " {'_id': ObjectId('65a75f99df46a6e2e49c8b66'), 'museo_tematica_n1': ''},\n",
      " {'_id': ObjectId('65a75f99df46a6e2e49c8b68'), 'museo_tematica_n1': ''},\n",
      " {'_id': ObjectId('65a75f99df46a6e2e49c8b74'), 'museo_tematica_n1': ''},\n",
      " {'_id': ObjectId('65a75f99df46a6e2e49c8b7c'), 'museo_tematica_n1': ''},\n",
      " {'_id': ObjectId('65a75f99df46a6e2e49c8b89'), 'museo_tematica_n1': ''},\n",
      " {'_id': ObjectId('65a75f99df46a6e2e49c8b8c'), 'museo_tematica_n1': ''},\n",
      " {'_id': ObjectId('65a75f99df46a6e2e49c8b8d'), 'museo_tematica_n1': ''},\n",
      " {'_id': ObjectId('65a75f99df46a6e2e49c8b90'), 'museo_tematica_n1': ''},\n",
      " {'_id': ObjectId('65a75f99df46a6e2e49c8b9a'), 'museo_tematica_n1': ''},\n",
      " {'_id': ObjectId('65a75f99df46a6e2e49c8bb6'), 'museo_tematica_n1': ''},\n",
      " {'_id': ObjectId('65a75f99df46a6e2e49c8bb7'), 'museo_tematica_n1': ''},\n",
      " {'_id': ObjectId('65a75f99df46a6e2e49c8bc2'), 'museo_tematica_n1': ''},\n",
      " {'_id': ObjectId('65a75f99df46a6e2e49c8bca'), 'museo_tematica_n1': ''},\n",
      " {'_id': ObjectId('65a75f99df46a6e2e49c8bcb'), 'museo_tematica_n1': ''},\n",
      " {'_id': ObjectId('65a75f99df46a6e2e49c8bd4'), 'museo_tematica_n1': ''},\n",
      " {'_id': ObjectId('65a75f99df46a6e2e49c8bd5'), 'museo_tematica_n1': ''},\n",
      " {'_id': ObjectId('65a75f99df46a6e2e49c8bd6'), 'museo_tematica_n1': ''},\n",
      " {'_id': ObjectId('65a75f99df46a6e2e49c8bd8'), 'museo_tematica_n1': ''},\n",
      " {'_id': ObjectId('65a75f99df46a6e2e49c8bda'), 'museo_tematica_n1': ''},\n",
      " {'_id': ObjectId('65a75f99df46a6e2e49c8be3'), 'museo_tematica_n1': ''},\n",
      " {'_id': ObjectId('65a75f99df46a6e2e49c8c07'), 'museo_tematica_n1': ''},\n",
      " {'_id': ObjectId('65a75f99df46a6e2e49c8c08'), 'museo_tematica_n1': ''},\n",
      " {'_id': ObjectId('65a75f99df46a6e2e49c8c15'), 'museo_tematica_n1': ''},\n",
      " {'_id': ObjectId('65a75f99df46a6e2e49c8c1c'), 'museo_tematica_n1': ''},\n",
      " {'_id': ObjectId('65a75f99df46a6e2e49c8c20'), 'museo_tematica_n1': ''},\n",
      " {'_id': ObjectId('65a75f99df46a6e2e49c8c2a'), 'museo_tematica_n1': ''},\n",
      " {'_id': ObjectId('65a75f99df46a6e2e49c8c2d'), 'museo_tematica_n1': ''},\n",
      " {'_id': ObjectId('65a75f99df46a6e2e49c8c37'), 'museo_tematica_n1': ''},\n",
      " {'_id': ObjectId('65a75f99df46a6e2e49c8c3b'), 'museo_tematica_n1': ''},\n",
      " {'_id': ObjectId('65a75f99df46a6e2e49c8c3c'), 'museo_tematica_n1': ''},\n",
      " {'_id': ObjectId('65a75f99df46a6e2e49c8c48'), 'museo_tematica_n1': ''},\n",
      " {'_id': ObjectId('65a75f99df46a6e2e49c8c66'), 'museo_tematica_n1': ''},\n",
      " {'_id': ObjectId('65a75f99df46a6e2e49c8c67'), 'museo_tematica_n1': ''},\n",
      " {'_id': ObjectId('65a75f99df46a6e2e49c8c69'), 'museo_tematica_n1': ''},\n",
      " {'_id': ObjectId('65a75f99df46a6e2e49c8c6d'), 'museo_tematica_n1': ''},\n",
      " {'_id': ObjectId('65a75f99df46a6e2e49c8c86'), 'museo_tematica_n1': ''},\n",
      " {'_id': ObjectId('65a75f99df46a6e2e49c8c87'), 'museo_tematica_n1': ''},\n",
      " {'_id': ObjectId('65a75f99df46a6e2e49c8c92'), 'museo_tematica_n1': ''},\n",
      " {'_id': ObjectId('65a75f99df46a6e2e49c8c93'), 'museo_tematica_n1': ''},\n",
      " {'_id': ObjectId('65a75f99df46a6e2e49c8c94'), 'museo_tematica_n1': ''},\n",
      " {'_id': ObjectId('65a75f99df46a6e2e49c8c97'), 'museo_tematica_n1': ''},\n",
      " {'_id': ObjectId('65a75f99df46a6e2e49c8c9b'), 'museo_tematica_n1': ''},\n",
      " {'_id': ObjectId('65a75f99df46a6e2e49c8cad'), 'museo_tematica_n1': ''},\n",
      " {'_id': ObjectId('65a75f99df46a6e2e49c8cb0'), 'museo_tematica_n1': ''},\n",
      " {'_id': ObjectId('65a75f99df46a6e2e49c8cba'), 'museo_tematica_n1': ''},\n",
      " {'_id': ObjectId('65a75f99df46a6e2e49c8cca'), 'museo_tematica_n1': ''},\n",
      " {'_id': ObjectId('65a75f99df46a6e2e49c8cd8'), 'museo_tematica_n1': ''},\n",
      " {'_id': ObjectId('65a75f99df46a6e2e49c8cd9'), 'museo_tematica_n1': ''},\n",
      " {'_id': ObjectId('65a75f99df46a6e2e49c8cda'), 'museo_tematica_n1': ''},\n",
      " {'_id': ObjectId('65a75f99df46a6e2e49c8ce1'), 'museo_tematica_n1': ''},\n",
      " {'_id': ObjectId('65a75f99df46a6e2e49c8ce7'), 'museo_tematica_n1': ''},\n",
      " {'_id': ObjectId('65a75f99df46a6e2e49c8cf4'), 'museo_tematica_n1': ''},\n",
      " {'_id': ObjectId('65a75f99df46a6e2e49c8cfa'), 'museo_tematica_n1': ''},\n",
      " {'_id': ObjectId('65a75f99df46a6e2e49c8cff'), 'museo_tematica_n1': ''},\n",
      " {'_id': ObjectId('65a75f99df46a6e2e49c8d02'), 'museo_tematica_n1': ''},\n",
      " {'_id': ObjectId('65a75f99df46a6e2e49c8d07'), 'museo_tematica_n1': ''},\n",
      " {'_id': ObjectId('65a75f99df46a6e2e49c8d09'), 'museo_tematica_n1': ''},\n",
      " {'_id': ObjectId('65a75f99df46a6e2e49c8d0d'), 'museo_tematica_n1': ''},\n",
      " {'_id': ObjectId('65a75f99df46a6e2e49c8d10'), 'museo_tematica_n1': ''},\n",
      " {'_id': ObjectId('65a75f99df46a6e2e49c8d12'), 'museo_tematica_n1': ''},\n",
      " {'_id': ObjectId('65a75f99df46a6e2e49c8d1b'), 'museo_tematica_n1': ''},\n",
      " {'_id': ObjectId('65a75f99df46a6e2e49c8d1e'), 'museo_tematica_n1': ''},\n",
      " {'_id': ObjectId('65a75f99df46a6e2e49c8d24'), 'museo_tematica_n1': ''},\n",
      " {'_id': ObjectId('65a75f99df46a6e2e49c8d25'), 'museo_tematica_n1': ''},\n",
      " {'_id': ObjectId('65a75f99df46a6e2e49c8d27'), 'museo_tematica_n1': ''},\n",
      " {'_id': ObjectId('65a75f99df46a6e2e49c8d29'), 'museo_tematica_n1': ''},\n",
      " {'_id': ObjectId('65a75f99df46a6e2e49c8d3e'), 'museo_tematica_n1': ''},\n",
      " {'_id': ObjectId('65a75f99df46a6e2e49c8d47'), 'museo_tematica_n1': ''},\n",
      " {'_id': ObjectId('65a75f99df46a6e2e49c8d4d'), 'museo_tematica_n1': ''},\n",
      " {'_id': ObjectId('65a75f99df46a6e2e49c8d53'), 'museo_tematica_n1': ''},\n",
      " {'_id': ObjectId('65a75f99df46a6e2e49c8d54'), 'museo_tematica_n1': ''},\n",
      " {'_id': ObjectId('65a75f99df46a6e2e49c8d57'), 'museo_tematica_n1': ''},\n",
      " {'_id': ObjectId('65a75f99df46a6e2e49c8d58'), 'museo_tematica_n1': ''},\n",
      " {'_id': ObjectId('65a75f99df46a6e2e49c8d59'), 'museo_tematica_n1': ''},\n",
      " {'_id': ObjectId('65a75f99df46a6e2e49c8d5a'), 'museo_tematica_n1': ''},\n",
      " {'_id': ObjectId('65a75f99df46a6e2e49c8d5c'), 'museo_tematica_n1': ''},\n",
      " {'_id': ObjectId('65a75f99df46a6e2e49c8d5e'), 'museo_tematica_n1': ''},\n",
      " {'_id': ObjectId('65a75f99df46a6e2e49c8d60'), 'museo_tematica_n1': ''},\n",
      " {'_id': ObjectId('65a75f99df46a6e2e49c8d61'), 'museo_tematica_n1': ''},\n",
      " {'_id': ObjectId('65a75f99df46a6e2e49c8d68'), 'museo_tematica_n1': ''},\n",
      " {'_id': ObjectId('65a75f99df46a6e2e49c8d6a'), 'museo_tematica_n1': ''},\n",
      " {'_id': ObjectId('65a75f99df46a6e2e49c8d6c'), 'museo_tematica_n1': ''},\n",
      " {'_id': ObjectId('65a75f99df46a6e2e49c8d6f'), 'museo_tematica_n1': ''},\n",
      " {'_id': ObjectId('65a75f99df46a6e2e49c8d71'), 'museo_tematica_n1': ''},\n",
      " {'_id': ObjectId('65a75f99df46a6e2e49c8d73'), 'museo_tematica_n1': ''},\n",
      " {'_id': ObjectId('65a75f99df46a6e2e49c8d75'), 'museo_tematica_n1': ''},\n",
      " {'_id': ObjectId('65a75f99df46a6e2e49c8d7f'), 'museo_tematica_n1': ''},\n",
      " {'_id': ObjectId('65a75f99df46a6e2e49c8d80'), 'museo_tematica_n1': ''},\n",
      " {'_id': ObjectId('65a75f99df46a6e2e49c8d83'), 'museo_tematica_n1': ''},\n",
      " {'_id': ObjectId('65a75f99df46a6e2e49c8d86'), 'museo_tematica_n1': ''},\n",
      " {'_id': ObjectId('65a75f99df46a6e2e49c8d87'), 'museo_tematica_n1': ''},\n",
      " {'_id': ObjectId('65a75f99df46a6e2e49c8d90'), 'museo_tematica_n1': ''},\n",
      " {'_id': ObjectId('65a75f99df46a6e2e49c8d91'), 'museo_tematica_n1': ''},\n",
      " {'_id': ObjectId('65a75f99df46a6e2e49c8d96'), 'museo_tematica_n1': ''},\n",
      " {'_id': ObjectId('65a75f99df46a6e2e49c8d9b'), 'museo_tematica_n1': ''},\n",
      " {'_id': ObjectId('65a75f99df46a6e2e49c8d9c'), 'museo_tematica_n1': ''},\n",
      " {'_id': ObjectId('65a75f99df46a6e2e49c8da6'), 'museo_tematica_n1': ''},\n",
      " {'_id': ObjectId('65a75f99df46a6e2e49c8db8'), 'museo_tematica_n1': ''},\n",
      " {'_id': ObjectId('65a75f99df46a6e2e49c8dbe'), 'museo_tematica_n1': ''},\n",
      " {'_id': ObjectId('65a75f99df46a6e2e49c8dc1'), 'museo_tematica_n1': ''},\n",
      " {'_id': ObjectId('65a75f99df46a6e2e49c8dc2'), 'museo_tematica_n1': ''},\n",
      " {'_id': ObjectId('65a75f99df46a6e2e49c8dc4'), 'museo_tematica_n1': ''},\n",
      " {'_id': ObjectId('65a75f9adf46a6e2e49c8dd0'), 'museo_tematica_n1': ''},\n",
      " {'_id': ObjectId('65a75f9adf46a6e2e49c8dd9'), 'museo_tematica_n1': ''},\n",
      " {'_id': ObjectId('65a75f9adf46a6e2e49c8dde'), 'museo_tematica_n1': ''},\n",
      " {'_id': ObjectId('65a75f9adf46a6e2e49c8de2'), 'museo_tematica_n1': ''},\n",
      " {'_id': ObjectId('65a75f9adf46a6e2e49c8def'), 'museo_tematica_n1': ''},\n",
      " {'_id': ObjectId('65a75f9adf46a6e2e49c8dff'), 'museo_tematica_n1': ''},\n",
      " {'_id': ObjectId('65a75f9adf46a6e2e49c8e01'), 'museo_tematica_n1': ''},\n",
      " {'_id': ObjectId('65a75f9adf46a6e2e49c8e03'), 'museo_tematica_n1': ''},\n",
      " {'_id': ObjectId('65a75f9adf46a6e2e49c8e04'), 'museo_tematica_n1': ''},\n",
      " {'_id': ObjectId('65a75f9adf46a6e2e49c8e06'), 'museo_tematica_n1': ''},\n",
      " {'_id': ObjectId('65a75f9adf46a6e2e49c8e15'), 'museo_tematica_n1': ''},\n",
      " {'_id': ObjectId('65a75f9adf46a6e2e49c8e18'), 'museo_tematica_n1': ''},\n",
      " {'_id': ObjectId('65a75f9adf46a6e2e49c8e20'), 'museo_tematica_n1': ''},\n",
      " {'_id': ObjectId('65a75f9adf46a6e2e49c8e21'), 'museo_tematica_n1': ''},\n",
      " {'_id': ObjectId('65a75f9adf46a6e2e49c8e31'), 'museo_tematica_n1': ''},\n",
      " {'_id': ObjectId('65a75f9adf46a6e2e49c8e33'), 'museo_tematica_n1': ''},\n",
      " {'_id': ObjectId('65a75f9adf46a6e2e49c8e38'), 'museo_tematica_n1': ''},\n",
      " {'_id': ObjectId('65a75f9adf46a6e2e49c8e3c'), 'museo_tematica_n1': ''},\n",
      " {'_id': ObjectId('65a75f9adf46a6e2e49c8e3d'), 'museo_tematica_n1': ''},\n",
      " {'_id': ObjectId('65a75f9adf46a6e2e49c8e3f'), 'museo_tematica_n1': ''},\n",
      " {'_id': ObjectId('65a75f9adf46a6e2e49c8e40'), 'museo_tematica_n1': ''},\n",
      " {'_id': ObjectId('65a75f9adf46a6e2e49c8e44'), 'museo_tematica_n1': ''},\n",
      " {'_id': ObjectId('65a75f9adf46a6e2e49c8e45'), 'museo_tematica_n1': ''},\n",
      " {'_id': ObjectId('65a75f9adf46a6e2e49c8e49'), 'museo_tematica_n1': ''},\n",
      " {'_id': ObjectId('65a75f9adf46a6e2e49c8e4b'), 'museo_tematica_n1': ''},\n",
      " {'_id': ObjectId('65a75f9adf46a6e2e49c8e4c'), 'museo_tematica_n1': ''},\n",
      " {'_id': ObjectId('65a75f9adf46a6e2e49c8e53'), 'museo_tematica_n1': ''},\n",
      " {'_id': ObjectId('65a75f9adf46a6e2e49c8e54'), 'museo_tematica_n1': ''},\n",
      " {'_id': ObjectId('65a75f9adf46a6e2e49c8e56'), 'museo_tematica_n1': ''},\n",
      " {'_id': ObjectId('65a75f9adf46a6e2e49c8e57'), 'museo_tematica_n1': ''},\n",
      " {'_id': ObjectId('65a75f9adf46a6e2e49c8e5a'), 'museo_tematica_n1': ''},\n",
      " {'_id': ObjectId('65a75f9adf46a6e2e49c8e5c'), 'museo_tematica_n1': ''},\n",
      " {'_id': ObjectId('65a75f9adf46a6e2e49c8e5d'), 'museo_tematica_n1': ''},\n",
      " {'_id': ObjectId('65a75f9adf46a6e2e49c8e5f'), 'museo_tematica_n1': ''},\n",
      " {'_id': ObjectId('65a75f9adf46a6e2e49c8e60'), 'museo_tematica_n1': ''},\n",
      " {'_id': ObjectId('65a75f9adf46a6e2e49c8e65'), 'museo_tematica_n1': ''},\n",
      " {'_id': ObjectId('65a75f9adf46a6e2e49c8e69'), 'museo_tematica_n1': ''},\n",
      " {'_id': ObjectId('65a75f9adf46a6e2e49c8e6d'), 'museo_tematica_n1': ''},\n",
      " {'_id': ObjectId('65a75f9adf46a6e2e49c8e6e'), 'museo_tematica_n1': ''},\n",
      " {'_id': ObjectId('65a75f9adf46a6e2e49c8e73'), 'museo_tematica_n1': ''},\n",
      " {'_id': ObjectId('65a75f9adf46a6e2e49c8e75'), 'museo_tematica_n1': ''},\n",
      " {'_id': ObjectId('65a75f9adf46a6e2e49c8e78'), 'museo_tematica_n1': ''},\n",
      " {'_id': ObjectId('65a75f9adf46a6e2e49c8e7b'), 'museo_tematica_n1': ''},\n",
      " {'_id': ObjectId('65a75f9adf46a6e2e49c8e7c'), 'museo_tematica_n1': ''},\n",
      " {'_id': ObjectId('65a75f9adf46a6e2e49c8e7d'), 'museo_tematica_n1': ''},\n",
      " {'_id': ObjectId('65a75f9adf46a6e2e49c8e7e'), 'museo_tematica_n1': ''},\n",
      " {'_id': ObjectId('65a75f9adf46a6e2e49c8e7f'), 'museo_tematica_n1': ''},\n",
      " {'_id': ObjectId('65a75f9adf46a6e2e49c8e80'), 'museo_tematica_n1': ''},\n",
      " {'_id': ObjectId('65a75f9adf46a6e2e49c8e81'), 'museo_tematica_n1': ''},\n",
      " {'_id': ObjectId('65a75f9adf46a6e2e49c8e83'), 'museo_tematica_n1': ''},\n",
      " {'_id': ObjectId('65a75f9adf46a6e2e49c8e84'), 'museo_tematica_n1': ''},\n",
      " {'_id': ObjectId('65a75f9adf46a6e2e49c8e85'), 'museo_tematica_n1': ''},\n",
      " {'_id': ObjectId('65a75f9adf46a6e2e49c8e86'), 'museo_tematica_n1': ''},\n",
      " {'_id': ObjectId('65a75f9adf46a6e2e49c8e87'), 'museo_tematica_n1': ''},\n",
      " {'_id': ObjectId('65a75f9adf46a6e2e49c8e88'), 'museo_tematica_n1': ''},\n",
      " {'_id': ObjectId('65a75f9adf46a6e2e49c8e8b'), 'museo_tematica_n1': ''},\n",
      " {'_id': ObjectId('65a75f9adf46a6e2e49c8e8c'), 'museo_tematica_n1': ''},\n",
      " {'_id': ObjectId('65a75f9adf46a6e2e49c8e8d'), 'museo_tematica_n1': ''},\n",
      " {'_id': ObjectId('65a75f9adf46a6e2e49c8e92'), 'museo_tematica_n1': ''},\n",
      " {'_id': ObjectId('65a75f9adf46a6e2e49c8ea1'), 'museo_tematica_n1': ''},\n",
      " {'_id': ObjectId('65a75f9adf46a6e2e49c8ea5'), 'museo_tematica_n1': ''},\n",
      " {'_id': ObjectId('65a75f9adf46a6e2e49c8eac'), 'museo_tematica_n1': ''},\n",
      " {'_id': ObjectId('65a75f9adf46a6e2e49c8eae'), 'museo_tematica_n1': ''},\n",
      " {'_id': ObjectId('65a75f9adf46a6e2e49c8eaf'), 'museo_tematica_n1': ''},\n",
      " {'_id': ObjectId('65a75f9adf46a6e2e49c8eb2'), 'museo_tematica_n1': ''},\n",
      " {'_id': ObjectId('65a75f9adf46a6e2e49c8ebb'), 'museo_tematica_n1': ''},\n",
      " {'_id': ObjectId('65a75f9adf46a6e2e49c8ebc'), 'museo_tematica_n1': ''},\n",
      " {'_id': ObjectId('65a75f9adf46a6e2e49c8ec0'), 'museo_tematica_n1': ''},\n",
      " {'_id': ObjectId('65a75f9adf46a6e2e49c8ec3'), 'museo_tematica_n1': ''},\n",
      " {'_id': ObjectId('65a75f9adf46a6e2e49c8ec5'), 'museo_tematica_n1': ''},\n",
      " {'_id': ObjectId('65a75f9adf46a6e2e49c8eca'), 'museo_tematica_n1': ''},\n",
      " {'_id': ObjectId('65a75f9adf46a6e2e49c8ecb'), 'museo_tematica_n1': ''},\n",
      " {'_id': ObjectId('65a75f9adf46a6e2e49c8ecc'), 'museo_tematica_n1': ''},\n",
      " {'_id': ObjectId('65a75f9adf46a6e2e49c8ece'), 'museo_tematica_n1': ''},\n",
      " {'_id': ObjectId('65a75f9adf46a6e2e49c8ecf'), 'museo_tematica_n1': ''},\n",
      " {'_id': ObjectId('65a75f9adf46a6e2e49c8ed2'), 'museo_tematica_n1': ''},\n",
      " {'_id': ObjectId('65a75f9adf46a6e2e49c8ed6'), 'museo_tematica_n1': ''},\n",
      " {'_id': ObjectId('65a75f9adf46a6e2e49c8ed7'), 'museo_tematica_n1': ''},\n",
      " {'_id': ObjectId('65a75f9adf46a6e2e49c8ed8'), 'museo_tematica_n1': ''},\n",
      " {'_id': ObjectId('65a75f9adf46a6e2e49c8ed9'), 'museo_tematica_n1': ''},\n",
      " {'_id': ObjectId('65a75f9adf46a6e2e49c8ede'), 'museo_tematica_n1': ''},\n",
      " {'_id': ObjectId('65a75f9adf46a6e2e49c8ee6'), 'museo_tematica_n1': ''},\n",
      " {'_id': ObjectId('65a75f9adf46a6e2e49c8eeb'), 'museo_tematica_n1': ''},\n",
      " {'_id': ObjectId('65a75f9adf46a6e2e49c8eee'), 'museo_tematica_n1': ''},\n",
      " {'_id': ObjectId('65a75f9adf46a6e2e49c8ef3'), 'museo_tematica_n1': ''},\n",
      " {'_id': ObjectId('65a75f9adf46a6e2e49c8ef6'), 'museo_tematica_n1': ''},\n",
      " {'_id': ObjectId('65a75f9adf46a6e2e49c8eff'), 'museo_tematica_n1': ''},\n",
      " {'_id': ObjectId('65a75f9adf46a6e2e49c8f08'), 'museo_tematica_n1': ''},\n",
      " {'_id': ObjectId('65a75f9adf46a6e2e49c8f0a'), 'museo_tematica_n1': ''}]\n"
     ]
    }
   ],
   "source": [
    "# Find the documents with missing values in museo_tematica_n1\n",
    "query_tema = {\"museo_tematica_n1\" : \"\",}\n",
    "field_tema = {\"museo_tematica_n1\" : True,}\n",
    "\n",
    "tema = museos.find(query_tema, field_tema)\n",
    "pprint(list(tema))"
   ]
  },
  {
   "cell_type": "code",
   "execution_count": 9,
   "id": "6d234329",
   "metadata": {},
   "outputs": [
    {
     "name": "stdout",
     "output_type": "stream",
     "text": [
      "323\n",
      "48\n"
     ]
    }
   ],
   "source": [
    "print(museos.count_documents(query_tema))\n",
    "print(museos.count_documents({\"museo_tematica_n1\" : \"TND\",}))"
   ]
  },
  {
   "cell_type": "code",
   "execution_count": 10,
   "id": "95d766c3",
   "metadata": {},
   "outputs": [
    {
     "data": {
      "text/plain": [
       "<pymongo.results.UpdateResult at 0x1c2fbe34780>"
      ]
     },
     "execution_count": 10,
     "metadata": {},
     "output_type": "execute_result"
    }
   ],
   "source": [
    "# Update the documents with TND\n",
    "new_tema = {\"$set\" : {\"museo_tematica_n1\" : \"TND\"}}\n",
    "museos.update_many({'museo_tematica_n1': ''}, new_tema)"
   ]
  },
  {
   "cell_type": "code",
   "execution_count": 11,
   "id": "23cdea47",
   "metadata": {},
   "outputs": [
    {
     "name": "stdout",
     "output_type": "stream",
     "text": [
      "0\n",
      "371\n"
     ]
    }
   ],
   "source": [
    "print(museos.count_documents(query_tema))\n",
    "print(museos.count_documents({\"museo_tematica_n1\" : \"TND\",}))"
   ]
  },
  {
   "cell_type": "markdown",
   "id": "b1515ce9",
   "metadata": {},
   "source": [
    "Identify the documents with erroneous museo_fecha_fundacion and set to NA"
   ]
  },
  {
   "cell_type": "code",
   "execution_count": 12,
   "id": "a8143e71",
   "metadata": {},
   "outputs": [
    {
     "name": "stdout",
     "output_type": "stream",
     "text": [
      "[{'_id': ObjectId('65a75f99df46a6e2e49c88cd'),\n",
      "  'museo_fecha_fundacion': '1000-01-01'},\n",
      " {'_id': ObjectId('65a75f99df46a6e2e49c88e5'),\n",
      "  'museo_fecha_fundacion': '1000-01-01'},\n",
      " {'_id': ObjectId('65a75f99df46a6e2e49c88f5'),\n",
      "  'museo_fecha_fundacion': '1000-01-01'},\n",
      " {'_id': ObjectId('65a75f99df46a6e2e49c890c'),\n",
      "  'museo_fecha_fundacion': '1000-01-01'},\n",
      " {'_id': ObjectId('65a75f99df46a6e2e49c8911'),\n",
      "  'museo_fecha_fundacion': '1000-01-01'},\n",
      " {'_id': ObjectId('65a75f99df46a6e2e49c8917'),\n",
      "  'museo_fecha_fundacion': '1000-01-01'},\n",
      " {'_id': ObjectId('65a75f99df46a6e2e49c891a'),\n",
      "  'museo_fecha_fundacion': '1000-01-01'},\n",
      " {'_id': ObjectId('65a75f99df46a6e2e49c8924'),\n",
      "  'museo_fecha_fundacion': '1000-01-01'},\n",
      " {'_id': ObjectId('65a75f99df46a6e2e49c8926'),\n",
      "  'museo_fecha_fundacion': '1000-01-01'},\n",
      " {'_id': ObjectId('65a75f99df46a6e2e49c892d'),\n",
      "  'museo_fecha_fundacion': '1000-01-01'},\n",
      " {'_id': ObjectId('65a75f99df46a6e2e49c8947'),\n",
      "  'museo_fecha_fundacion': '1000-01-01'},\n",
      " {'_id': ObjectId('65a75f99df46a6e2e49c8955'),\n",
      "  'museo_fecha_fundacion': '1000-01-01'},\n",
      " {'_id': ObjectId('65a75f99df46a6e2e49c8962'),\n",
      "  'museo_fecha_fundacion': '1000-01-01'},\n",
      " {'_id': ObjectId('65a75f99df46a6e2e49c8963'),\n",
      "  'museo_fecha_fundacion': '1000-01-01'},\n",
      " {'_id': ObjectId('65a75f99df46a6e2e49c8964'),\n",
      "  'museo_fecha_fundacion': '1000-01-01'},\n",
      " {'_id': ObjectId('65a75f99df46a6e2e49c8973'),\n",
      "  'museo_fecha_fundacion': '1000-01-01'},\n",
      " {'_id': ObjectId('65a75f99df46a6e2e49c8979'),\n",
      "  'museo_fecha_fundacion': '1000-01-01'},\n",
      " {'_id': ObjectId('65a75f99df46a6e2e49c897d'),\n",
      "  'museo_fecha_fundacion': '1000-01-01'},\n",
      " {'_id': ObjectId('65a75f99df46a6e2e49c898c'),\n",
      "  'museo_fecha_fundacion': '1000-01-01'},\n",
      " {'_id': ObjectId('65a75f99df46a6e2e49c89ba'),\n",
      "  'museo_fecha_fundacion': '1000-01-01'},\n",
      " {'_id': ObjectId('65a75f99df46a6e2e49c89bc'),\n",
      "  'museo_fecha_fundacion': '1000-01-01'},\n",
      " {'_id': ObjectId('65a75f99df46a6e2e49c89c4'),\n",
      "  'museo_fecha_fundacion': '1000-01-01'},\n",
      " {'_id': ObjectId('65a75f99df46a6e2e49c89d3'),\n",
      "  'museo_fecha_fundacion': '1000-01-01'},\n",
      " {'_id': ObjectId('65a75f99df46a6e2e49c89dd'),\n",
      "  'museo_fecha_fundacion': '1000-01-01'},\n",
      " {'_id': ObjectId('65a75f99df46a6e2e49c8a10'),\n",
      "  'museo_fecha_fundacion': '1000-01-01'},\n",
      " {'_id': ObjectId('65a75f99df46a6e2e49c8a11'),\n",
      "  'museo_fecha_fundacion': '1000-01-01'},\n",
      " {'_id': ObjectId('65a75f99df46a6e2e49c8a3c'),\n",
      "  'museo_fecha_fundacion': '1000-01-01'},\n",
      " {'_id': ObjectId('65a75f99df46a6e2e49c8a41'),\n",
      "  'museo_fecha_fundacion': '1000-01-01'},\n",
      " {'_id': ObjectId('65a75f99df46a6e2e49c8a6e'),\n",
      "  'museo_fecha_fundacion': '1000-01-01'},\n",
      " {'_id': ObjectId('65a75f99df46a6e2e49c8a9f'),\n",
      "  'museo_fecha_fundacion': '1000-01-01'},\n",
      " {'_id': ObjectId('65a75f99df46a6e2e49c8aa0'),\n",
      "  'museo_fecha_fundacion': '1000-01-01'},\n",
      " {'_id': ObjectId('65a75f99df46a6e2e49c8abb'),\n",
      "  'museo_fecha_fundacion': '1000-01-01'},\n",
      " {'_id': ObjectId('65a75f99df46a6e2e49c8ac7'),\n",
      "  'museo_fecha_fundacion': '1000-01-01'},\n",
      " {'_id': ObjectId('65a75f99df46a6e2e49c8acc'),\n",
      "  'museo_fecha_fundacion': '1000-01-01'},\n",
      " {'_id': ObjectId('65a75f99df46a6e2e49c8ad4'),\n",
      "  'museo_fecha_fundacion': '1000-01-01'},\n",
      " {'_id': ObjectId('65a75f99df46a6e2e49c8af4'),\n",
      "  'museo_fecha_fundacion': '1000-01-01'},\n",
      " {'_id': ObjectId('65a75f99df46a6e2e49c8aff'),\n",
      "  'museo_fecha_fundacion': '1000-01-01'},\n",
      " {'_id': ObjectId('65a75f99df46a6e2e49c8b17'),\n",
      "  'museo_fecha_fundacion': '1000-01-01'},\n",
      " {'_id': ObjectId('65a75f99df46a6e2e49c8b18'),\n",
      "  'museo_fecha_fundacion': '1000-01-01'},\n",
      " {'_id': ObjectId('65a75f99df46a6e2e49c8b1b'),\n",
      "  'museo_fecha_fundacion': '1000-01-01'},\n",
      " {'_id': ObjectId('65a75f99df46a6e2e49c8b2b'),\n",
      "  'museo_fecha_fundacion': '1000-01-01'},\n",
      " {'_id': ObjectId('65a75f99df46a6e2e49c8b2f'),\n",
      "  'museo_fecha_fundacion': '1000-01-01'},\n",
      " {'_id': ObjectId('65a75f99df46a6e2e49c8b31'),\n",
      "  'museo_fecha_fundacion': '1000-01-01'},\n",
      " {'_id': ObjectId('65a75f99df46a6e2e49c8b38'),\n",
      "  'museo_fecha_fundacion': '1000-01-01'},\n",
      " {'_id': ObjectId('65a75f99df46a6e2e49c8b3d'),\n",
      "  'museo_fecha_fundacion': '1000-01-01'},\n",
      " {'_id': ObjectId('65a75f99df46a6e2e49c8b40'),\n",
      "  'museo_fecha_fundacion': '1000-01-01'},\n",
      " {'_id': ObjectId('65a75f99df46a6e2e49c8b42'),\n",
      "  'museo_fecha_fundacion': '1000-01-01'},\n",
      " {'_id': ObjectId('65a75f99df46a6e2e49c8b47'),\n",
      "  'museo_fecha_fundacion': '1000-01-01'},\n",
      " {'_id': ObjectId('65a75f99df46a6e2e49c8b48'),\n",
      "  'museo_fecha_fundacion': '1000-01-01'},\n",
      " {'_id': ObjectId('65a75f99df46a6e2e49c8b52'),\n",
      "  'museo_fecha_fundacion': '1000-01-01'},\n",
      " {'_id': ObjectId('65a75f99df46a6e2e49c8bc4'),\n",
      "  'museo_fecha_fundacion': '1000-01-01'},\n",
      " {'_id': ObjectId('65a75f99df46a6e2e49c8bca'),\n",
      "  'museo_fecha_fundacion': '1000-01-01'},\n",
      " {'_id': ObjectId('65a75f99df46a6e2e49c8bda'),\n",
      "  'museo_fecha_fundacion': '1000-01-01'},\n",
      " {'_id': ObjectId('65a75f99df46a6e2e49c8bdf'),\n",
      "  'museo_fecha_fundacion': '1000-01-01'},\n",
      " {'_id': ObjectId('65a75f99df46a6e2e49c8bf7'),\n",
      "  'museo_fecha_fundacion': '1000-01-01'},\n",
      " {'_id': ObjectId('65a75f99df46a6e2e49c8c2d'),\n",
      "  'museo_fecha_fundacion': '1000-01-01'},\n",
      " {'_id': ObjectId('65a75f99df46a6e2e49c8c2f'),\n",
      "  'museo_fecha_fundacion': '1000-01-01'},\n",
      " {'_id': ObjectId('65a75f99df46a6e2e49c8c3b'),\n",
      "  'museo_fecha_fundacion': '1000-01-01'},\n",
      " {'_id': ObjectId('65a75f99df46a6e2e49c8c46'),\n",
      "  'museo_fecha_fundacion': '1000-01-01'},\n",
      " {'_id': ObjectId('65a75f99df46a6e2e49c8c4f'),\n",
      "  'museo_fecha_fundacion': '1000-01-01'},\n",
      " {'_id': ObjectId('65a75f99df46a6e2e49c8c74'),\n",
      "  'museo_fecha_fundacion': '1000-01-01'},\n",
      " {'_id': ObjectId('65a75f99df46a6e2e49c8c7c'),\n",
      "  'museo_fecha_fundacion': '1000-01-01'},\n",
      " {'_id': ObjectId('65a75f99df46a6e2e49c8c80'),\n",
      "  'museo_fecha_fundacion': '1000-01-01'},\n",
      " {'_id': ObjectId('65a75f99df46a6e2e49c8c9b'),\n",
      "  'museo_fecha_fundacion': '1000-01-01'},\n",
      " {'_id': ObjectId('65a75f99df46a6e2e49c8cd8'),\n",
      "  'museo_fecha_fundacion': '1000-01-01'},\n",
      " {'_id': ObjectId('65a75f99df46a6e2e49c8cdf'),\n",
      "  'museo_fecha_fundacion': '1000-01-01'},\n",
      " {'_id': ObjectId('65a75f99df46a6e2e49c8ce1'),\n",
      "  'museo_fecha_fundacion': '1000-01-01'},\n",
      " {'_id': ObjectId('65a75f99df46a6e2e49c8ce7'),\n",
      "  'museo_fecha_fundacion': '1000-01-01'},\n",
      " {'_id': ObjectId('65a75f99df46a6e2e49c8ceb'),\n",
      "  'museo_fecha_fundacion': '1000-01-01'},\n",
      " {'_id': ObjectId('65a75f99df46a6e2e49c8cf5'),\n",
      "  'museo_fecha_fundacion': '1000-01-01'},\n",
      " {'_id': ObjectId('65a75f99df46a6e2e49c8cfa'),\n",
      "  'museo_fecha_fundacion': '1000-01-01'},\n",
      " {'_id': ObjectId('65a75f99df46a6e2e49c8d03'),\n",
      "  'museo_fecha_fundacion': '1000-01-01'},\n",
      " {'_id': ObjectId('65a75f99df46a6e2e49c8d09'),\n",
      "  'museo_fecha_fundacion': '1000-01-01'},\n",
      " {'_id': ObjectId('65a75f99df46a6e2e49c8d0d'),\n",
      "  'museo_fecha_fundacion': '1000-01-01'},\n",
      " {'_id': ObjectId('65a75f99df46a6e2e49c8d27'),\n",
      "  'museo_fecha_fundacion': '1000-01-01'},\n",
      " {'_id': ObjectId('65a75f99df46a6e2e49c8d47'),\n",
      "  'museo_fecha_fundacion': '1000-01-01'},\n",
      " {'_id': ObjectId('65a75f99df46a6e2e49c8d48'),\n",
      "  'museo_fecha_fundacion': '1000-01-01'},\n",
      " {'_id': ObjectId('65a75f99df46a6e2e49c8d4d'),\n",
      "  'museo_fecha_fundacion': '1000-01-01'},\n",
      " {'_id': ObjectId('65a75f99df46a6e2e49c8d4e'),\n",
      "  'museo_fecha_fundacion': '1000-01-01'},\n",
      " {'_id': ObjectId('65a75f99df46a6e2e49c8d5a'),\n",
      "  'museo_fecha_fundacion': '1000-01-01'},\n",
      " {'_id': ObjectId('65a75f99df46a6e2e49c8d5f'),\n",
      "  'museo_fecha_fundacion': '1000-01-01'},\n",
      " {'_id': ObjectId('65a75f99df46a6e2e49c8d6e'),\n",
      "  'museo_fecha_fundacion': '1000-01-01'},\n",
      " {'_id': ObjectId('65a75f99df46a6e2e49c8d71'),\n",
      "  'museo_fecha_fundacion': '1000-01-01'},\n",
      " {'_id': ObjectId('65a75f99df46a6e2e49c8d90'),\n",
      "  'museo_fecha_fundacion': '1000-01-01'},\n",
      " {'_id': ObjectId('65a75f99df46a6e2e49c8d9b'),\n",
      "  'museo_fecha_fundacion': '1000-01-01'},\n",
      " {'_id': ObjectId('65a75f99df46a6e2e49c8da6'),\n",
      "  'museo_fecha_fundacion': '1000-01-01'},\n",
      " {'_id': ObjectId('65a75f99df46a6e2e49c8db8'),\n",
      "  'museo_fecha_fundacion': '1000-01-01'},\n",
      " {'_id': ObjectId('65a75f99df46a6e2e49c8dc1'),\n",
      "  'museo_fecha_fundacion': '1000-01-01'},\n",
      " {'_id': ObjectId('65a75f9adf46a6e2e49c8dff'),\n",
      "  'museo_fecha_fundacion': '1000-01-01'},\n",
      " {'_id': ObjectId('65a75f9adf46a6e2e49c8e06'),\n",
      "  'museo_fecha_fundacion': '1000-01-01'},\n",
      " {'_id': ObjectId('65a75f9adf46a6e2e49c8e3c'),\n",
      "  'museo_fecha_fundacion': '1000-01-01'},\n",
      " {'_id': ObjectId('65a75f9adf46a6e2e49c8e44'),\n",
      "  'museo_fecha_fundacion': '1000-01-01'},\n",
      " {'_id': ObjectId('65a75f9adf46a6e2e49c8e49'),\n",
      "  'museo_fecha_fundacion': '1000-01-01'},\n",
      " {'_id': ObjectId('65a75f9adf46a6e2e49c8e54'),\n",
      "  'museo_fecha_fundacion': '1000-01-01'},\n",
      " {'_id': ObjectId('65a75f9adf46a6e2e49c8e56'),\n",
      "  'museo_fecha_fundacion': '1000-01-01'},\n",
      " {'_id': ObjectId('65a75f9adf46a6e2e49c8e5f'),\n",
      "  'museo_fecha_fundacion': '1000-01-01'},\n",
      " {'_id': ObjectId('65a75f9adf46a6e2e49c8e6e'),\n",
      "  'museo_fecha_fundacion': '1000-01-01'},\n",
      " {'_id': ObjectId('65a75f9adf46a6e2e49c8e84'),\n",
      "  'museo_fecha_fundacion': '1000-01-01'},\n",
      " {'_id': ObjectId('65a75f9adf46a6e2e49c8e91'),\n",
      "  'museo_fecha_fundacion': '1000-01-01'},\n",
      " {'_id': ObjectId('65a75f9adf46a6e2e49c8ea1'),\n",
      "  'museo_fecha_fundacion': '1000-01-01'},\n",
      " {'_id': ObjectId('65a75f9adf46a6e2e49c8ecb'),\n",
      "  'museo_fecha_fundacion': '1000-01-01'},\n",
      " {'_id': ObjectId('65a75f9adf46a6e2e49c8efb'),\n",
      "  'museo_fecha_fundacion': '1000-01-01'}]\n"
     ]
    }
   ],
   "source": [
    "# Find the documents with missing values in museo_tematica_n1\n",
    "query_fecha = {\"museo_fecha_fundacion\" : \"1000-01-01\",}\n",
    "field_fecha = {\"museo_fecha_fundacion\" : True,}\n",
    "\n",
    "fecha = museos.find(query_fecha, field_fecha)\n",
    "pprint(list(fecha))"
   ]
  },
  {
   "cell_type": "code",
   "execution_count": 13,
   "id": "336feb9d",
   "metadata": {},
   "outputs": [
    {
     "name": "stdout",
     "output_type": "stream",
     "text": [
      "102\n",
      "0\n"
     ]
    }
   ],
   "source": [
    "print(museos.count_documents(query_fecha))\n",
    "print(museos.count_documents({'museo_fecha_fundacion': 'NA',}))"
   ]
  },
  {
   "cell_type": "code",
   "execution_count": 14,
   "id": "d8d1765a",
   "metadata": {},
   "outputs": [
    {
     "data": {
      "text/plain": [
       "<pymongo.results.UpdateResult at 0x1c2fc5a1980>"
      ]
     },
     "execution_count": 14,
     "metadata": {},
     "output_type": "execute_result"
    }
   ],
   "source": [
    "# Update the documents found with NA\n",
    "new_fecha = {\"$set\" : {\"museo_fecha_fundacion\" : \"NA\"}}\n",
    "museos.update_many(query_fecha, new_fecha)"
   ]
  },
  {
   "cell_type": "code",
   "execution_count": 15,
   "id": "2e9fdc18",
   "metadata": {},
   "outputs": [
    {
     "name": "stdout",
     "output_type": "stream",
     "text": [
      "0\n",
      "102\n"
     ]
    }
   ],
   "source": [
    "print(museos.count_documents(query_fecha))\n",
    "print(museos.count_documents({'museo_fecha_fundacion': 'NA',}))"
   ]
  },
  {
   "cell_type": "markdown",
   "id": "c5f36c6f",
   "metadata": {},
   "source": [
    "Identify the documents with gmaps_longitud = 0 and gmaps_longitud = 0 and set to \"\""
   ]
  },
  {
   "cell_type": "code",
   "execution_count": 16,
   "id": "fb2cc24c",
   "metadata": {},
   "outputs": [
    {
     "name": "stdout",
     "output_type": "stream",
     "text": [
      "[{'_id': ObjectId('65a75f99df46a6e2e49c88e2'),\n",
      "  'gmaps_latitud': 0,\n",
      "  'gmaps_longitud': 0},\n",
      " {'_id': ObjectId('65a75f99df46a6e2e49c88ef'),\n",
      "  'gmaps_latitud': 0,\n",
      "  'gmaps_longitud': 0},\n",
      " {'_id': ObjectId('65a75f99df46a6e2e49c8917'),\n",
      "  'gmaps_latitud': 0,\n",
      "  'gmaps_longitud': 0},\n",
      " {'_id': ObjectId('65a75f99df46a6e2e49c891e'),\n",
      "  'gmaps_latitud': 0,\n",
      "  'gmaps_longitud': 0},\n",
      " {'_id': ObjectId('65a75f99df46a6e2e49c8929'),\n",
      "  'gmaps_latitud': 0,\n",
      "  'gmaps_longitud': 0},\n",
      " {'_id': ObjectId('65a75f99df46a6e2e49c894d'),\n",
      "  'gmaps_latitud': 0,\n",
      "  'gmaps_longitud': 0},\n",
      " {'_id': ObjectId('65a75f99df46a6e2e49c8955'),\n",
      "  'gmaps_latitud': 0,\n",
      "  'gmaps_longitud': 0},\n",
      " {'_id': ObjectId('65a75f99df46a6e2e49c895f'),\n",
      "  'gmaps_latitud': 0,\n",
      "  'gmaps_longitud': 0},\n",
      " {'_id': ObjectId('65a75f99df46a6e2e49c8963'),\n",
      "  'gmaps_latitud': 0,\n",
      "  'gmaps_longitud': 0},\n",
      " {'_id': ObjectId('65a75f99df46a6e2e49c8966'),\n",
      "  'gmaps_latitud': 0,\n",
      "  'gmaps_longitud': 0},\n",
      " {'_id': ObjectId('65a75f99df46a6e2e49c8968'),\n",
      "  'gmaps_latitud': 0,\n",
      "  'gmaps_longitud': 0},\n",
      " {'_id': ObjectId('65a75f99df46a6e2e49c896f'),\n",
      "  'gmaps_latitud': 0,\n",
      "  'gmaps_longitud': 0},\n",
      " {'_id': ObjectId('65a75f99df46a6e2e49c8973'),\n",
      "  'gmaps_latitud': 0,\n",
      "  'gmaps_longitud': 0},\n",
      " {'_id': ObjectId('65a75f99df46a6e2e49c8979'),\n",
      "  'gmaps_latitud': 0,\n",
      "  'gmaps_longitud': 0},\n",
      " {'_id': ObjectId('65a75f99df46a6e2e49c898a'),\n",
      "  'gmaps_latitud': 0,\n",
      "  'gmaps_longitud': 0},\n",
      " {'_id': ObjectId('65a75f99df46a6e2e49c899a'),\n",
      "  'gmaps_latitud': 0,\n",
      "  'gmaps_longitud': 0},\n",
      " {'_id': ObjectId('65a75f99df46a6e2e49c899b'),\n",
      "  'gmaps_latitud': 0,\n",
      "  'gmaps_longitud': 0},\n",
      " {'_id': ObjectId('65a75f99df46a6e2e49c899c'),\n",
      "  'gmaps_latitud': 0,\n",
      "  'gmaps_longitud': 0},\n",
      " {'_id': ObjectId('65a75f99df46a6e2e49c89a3'),\n",
      "  'gmaps_latitud': 0,\n",
      "  'gmaps_longitud': 0},\n",
      " {'_id': ObjectId('65a75f99df46a6e2e49c89a7'),\n",
      "  'gmaps_latitud': 0,\n",
      "  'gmaps_longitud': 0},\n",
      " {'_id': ObjectId('65a75f99df46a6e2e49c89d3'),\n",
      "  'gmaps_latitud': 0,\n",
      "  'gmaps_longitud': 0},\n",
      " {'_id': ObjectId('65a75f99df46a6e2e49c8a8f'),\n",
      "  'gmaps_latitud': 0,\n",
      "  'gmaps_longitud': 0},\n",
      " {'_id': ObjectId('65a75f99df46a6e2e49c8ab7'),\n",
      "  'gmaps_latitud': 0,\n",
      "  'gmaps_longitud': 0},\n",
      " {'_id': ObjectId('65a75f99df46a6e2e49c8b05'),\n",
      "  'gmaps_latitud': 0,\n",
      "  'gmaps_longitud': 0},\n",
      " {'_id': ObjectId('65a75f99df46a6e2e49c8b06'),\n",
      "  'gmaps_latitud': 0,\n",
      "  'gmaps_longitud': 0},\n",
      " {'_id': ObjectId('65a75f99df46a6e2e49c8b1e'),\n",
      "  'gmaps_latitud': 0,\n",
      "  'gmaps_longitud': 0},\n",
      " {'_id': ObjectId('65a75f99df46a6e2e49c8b2a'),\n",
      "  'gmaps_latitud': 0,\n",
      "  'gmaps_longitud': 0},\n",
      " {'_id': ObjectId('65a75f99df46a6e2e49c8b33'),\n",
      "  'gmaps_latitud': 0,\n",
      "  'gmaps_longitud': 0},\n",
      " {'_id': ObjectId('65a75f99df46a6e2e49c8b50'),\n",
      "  'gmaps_latitud': 0,\n",
      "  'gmaps_longitud': 0},\n",
      " {'_id': ObjectId('65a75f99df46a6e2e49c8b53'),\n",
      "  'gmaps_latitud': 0,\n",
      "  'gmaps_longitud': 0},\n",
      " {'_id': ObjectId('65a75f99df46a6e2e49c8b66'),\n",
      "  'gmaps_latitud': 0,\n",
      "  'gmaps_longitud': 0},\n",
      " {'_id': ObjectId('65a75f99df46a6e2e49c8b69'),\n",
      "  'gmaps_latitud': 0,\n",
      "  'gmaps_longitud': 0},\n",
      " {'_id': ObjectId('65a75f99df46a6e2e49c8b6c'),\n",
      "  'gmaps_latitud': 0,\n",
      "  'gmaps_longitud': 0},\n",
      " {'_id': ObjectId('65a75f99df46a6e2e49c8b71'),\n",
      "  'gmaps_latitud': 0,\n",
      "  'gmaps_longitud': 0},\n",
      " {'_id': ObjectId('65a75f99df46a6e2e49c8b72'),\n",
      "  'gmaps_latitud': 0,\n",
      "  'gmaps_longitud': 0},\n",
      " {'_id': ObjectId('65a75f99df46a6e2e49c8b94'),\n",
      "  'gmaps_latitud': 0,\n",
      "  'gmaps_longitud': 0},\n",
      " {'_id': ObjectId('65a75f99df46a6e2e49c8b9d'),\n",
      "  'gmaps_latitud': 0,\n",
      "  'gmaps_longitud': 0},\n",
      " {'_id': ObjectId('65a75f99df46a6e2e49c8ba7'),\n",
      "  'gmaps_latitud': 0,\n",
      "  'gmaps_longitud': 0},\n",
      " {'_id': ObjectId('65a75f99df46a6e2e49c8bbe'),\n",
      "  'gmaps_latitud': 0,\n",
      "  'gmaps_longitud': 0},\n",
      " {'_id': ObjectId('65a75f99df46a6e2e49c8bc4'),\n",
      "  'gmaps_latitud': 0,\n",
      "  'gmaps_longitud': 0},\n",
      " {'_id': ObjectId('65a75f99df46a6e2e49c8bc6'),\n",
      "  'gmaps_latitud': 0,\n",
      "  'gmaps_longitud': 0},\n",
      " {'_id': ObjectId('65a75f99df46a6e2e49c8bde'),\n",
      "  'gmaps_latitud': 0,\n",
      "  'gmaps_longitud': 0},\n",
      " {'_id': ObjectId('65a75f99df46a6e2e49c8be8'),\n",
      "  'gmaps_latitud': 0,\n",
      "  'gmaps_longitud': 0},\n",
      " {'_id': ObjectId('65a75f99df46a6e2e49c8bed'),\n",
      "  'gmaps_latitud': 0,\n",
      "  'gmaps_longitud': 0},\n",
      " {'_id': ObjectId('65a75f99df46a6e2e49c8bf2'),\n",
      "  'gmaps_latitud': 0,\n",
      "  'gmaps_longitud': 0},\n",
      " {'_id': ObjectId('65a75f99df46a6e2e49c8bf7'),\n",
      "  'gmaps_latitud': 0,\n",
      "  'gmaps_longitud': 0},\n",
      " {'_id': ObjectId('65a75f99df46a6e2e49c8bfc'),\n",
      "  'gmaps_latitud': 0,\n",
      "  'gmaps_longitud': 0},\n",
      " {'_id': ObjectId('65a75f99df46a6e2e49c8c0c'),\n",
      "  'gmaps_latitud': 0,\n",
      "  'gmaps_longitud': 0},\n",
      " {'_id': ObjectId('65a75f99df46a6e2e49c8c23'),\n",
      "  'gmaps_latitud': 0,\n",
      "  'gmaps_longitud': 0},\n",
      " {'_id': ObjectId('65a75f99df46a6e2e49c8c26'),\n",
      "  'gmaps_latitud': 0,\n",
      "  'gmaps_longitud': 0},\n",
      " {'_id': ObjectId('65a75f99df46a6e2e49c8c41'),\n",
      "  'gmaps_latitud': 0,\n",
      "  'gmaps_longitud': 0},\n",
      " {'_id': ObjectId('65a75f99df46a6e2e49c8c42'),\n",
      "  'gmaps_latitud': 0,\n",
      "  'gmaps_longitud': 0},\n",
      " {'_id': ObjectId('65a75f99df46a6e2e49c8c47'),\n",
      "  'gmaps_latitud': 0,\n",
      "  'gmaps_longitud': 0},\n",
      " {'_id': ObjectId('65a75f99df46a6e2e49c8c4b'),\n",
      "  'gmaps_latitud': 0,\n",
      "  'gmaps_longitud': 0},\n",
      " {'_id': ObjectId('65a75f99df46a6e2e49c8c5a'),\n",
      "  'gmaps_latitud': 0,\n",
      "  'gmaps_longitud': 0},\n",
      " {'_id': ObjectId('65a75f99df46a6e2e49c8c79'),\n",
      "  'gmaps_latitud': 0,\n",
      "  'gmaps_longitud': 0},\n",
      " {'_id': ObjectId('65a75f99df46a6e2e49c8cc7'),\n",
      "  'gmaps_latitud': 0,\n",
      "  'gmaps_longitud': 0},\n",
      " {'_id': ObjectId('65a75f99df46a6e2e49c8cdb'),\n",
      "  'gmaps_latitud': 0,\n",
      "  'gmaps_longitud': 0},\n",
      " {'_id': ObjectId('65a75f99df46a6e2e49c8cdc'),\n",
      "  'gmaps_latitud': 0,\n",
      "  'gmaps_longitud': 0},\n",
      " {'_id': ObjectId('65a75f99df46a6e2e49c8cdd'),\n",
      "  'gmaps_latitud': 0,\n",
      "  'gmaps_longitud': 0},\n",
      " {'_id': ObjectId('65a75f99df46a6e2e49c8cdf'),\n",
      "  'gmaps_latitud': 0,\n",
      "  'gmaps_longitud': 0},\n",
      " {'_id': ObjectId('65a75f99df46a6e2e49c8ce0'),\n",
      "  'gmaps_latitud': 0,\n",
      "  'gmaps_longitud': 0},\n",
      " {'_id': ObjectId('65a75f99df46a6e2e49c8ce5'),\n",
      "  'gmaps_latitud': 0,\n",
      "  'gmaps_longitud': 0},\n",
      " {'_id': ObjectId('65a75f99df46a6e2e49c8ce6'),\n",
      "  'gmaps_latitud': 0,\n",
      "  'gmaps_longitud': 0},\n",
      " {'_id': ObjectId('65a75f99df46a6e2e49c8ceb'),\n",
      "  'gmaps_latitud': 0,\n",
      "  'gmaps_longitud': 0},\n",
      " {'_id': ObjectId('65a75f99df46a6e2e49c8cef'),\n",
      "  'gmaps_latitud': 0,\n",
      "  'gmaps_longitud': 0},\n",
      " {'_id': ObjectId('65a75f99df46a6e2e49c8cf0'),\n",
      "  'gmaps_latitud': 0,\n",
      "  'gmaps_longitud': 0},\n",
      " {'_id': ObjectId('65a75f99df46a6e2e49c8cf1'),\n",
      "  'gmaps_latitud': 0,\n",
      "  'gmaps_longitud': 0},\n",
      " {'_id': ObjectId('65a75f99df46a6e2e49c8cf2'),\n",
      "  'gmaps_latitud': 0,\n",
      "  'gmaps_longitud': 0},\n",
      " {'_id': ObjectId('65a75f99df46a6e2e49c8cf3'),\n",
      "  'gmaps_latitud': 0,\n",
      "  'gmaps_longitud': 0},\n",
      " {'_id': ObjectId('65a75f99df46a6e2e49c8cf5'),\n",
      "  'gmaps_latitud': 0,\n",
      "  'gmaps_longitud': 0},\n",
      " {'_id': ObjectId('65a75f99df46a6e2e49c8cf7'),\n",
      "  'gmaps_latitud': 0,\n",
      "  'gmaps_longitud': 0},\n",
      " {'_id': ObjectId('65a75f99df46a6e2e49c8cf8'),\n",
      "  'gmaps_latitud': 0,\n",
      "  'gmaps_longitud': 0},\n",
      " {'_id': ObjectId('65a75f99df46a6e2e49c8cf9'),\n",
      "  'gmaps_latitud': 0,\n",
      "  'gmaps_longitud': 0},\n",
      " {'_id': ObjectId('65a75f99df46a6e2e49c8d38'),\n",
      "  'gmaps_latitud': 0,\n",
      "  'gmaps_longitud': 0},\n",
      " {'_id': ObjectId('65a75f99df46a6e2e49c8d56'),\n",
      "  'gmaps_latitud': 0,\n",
      "  'gmaps_longitud': 0},\n",
      " {'_id': ObjectId('65a75f9adf46a6e2e49c8dd1'),\n",
      "  'gmaps_latitud': 0,\n",
      "  'gmaps_longitud': 0},\n",
      " {'_id': ObjectId('65a75f9adf46a6e2e49c8de1'),\n",
      "  'gmaps_latitud': 0,\n",
      "  'gmaps_longitud': 0},\n",
      " {'_id': ObjectId('65a75f9adf46a6e2e49c8de3'),\n",
      "  'gmaps_latitud': 0,\n",
      "  'gmaps_longitud': 0},\n",
      " {'_id': ObjectId('65a75f9adf46a6e2e49c8df7'),\n",
      "  'gmaps_latitud': 0,\n",
      "  'gmaps_longitud': 0},\n",
      " {'_id': ObjectId('65a75f9adf46a6e2e49c8e1e'),\n",
      "  'gmaps_latitud': 0,\n",
      "  'gmaps_longitud': 0},\n",
      " {'_id': ObjectId('65a75f9adf46a6e2e49c8e23'),\n",
      "  'gmaps_latitud': 0,\n",
      "  'gmaps_longitud': 0},\n",
      " {'_id': ObjectId('65a75f9adf46a6e2e49c8e46'),\n",
      "  'gmaps_latitud': 0,\n",
      "  'gmaps_longitud': 0},\n",
      " {'_id': ObjectId('65a75f9adf46a6e2e49c8e57'),\n",
      "  'gmaps_latitud': 0,\n",
      "  'gmaps_longitud': 0},\n",
      " {'_id': ObjectId('65a75f9adf46a6e2e49c8ed0'),\n",
      "  'gmaps_latitud': 0,\n",
      "  'gmaps_longitud': 0},\n",
      " {'_id': ObjectId('65a75f9adf46a6e2e49c8eef'),\n",
      "  'gmaps_latitud': 0,\n",
      "  'gmaps_longitud': 0},\n",
      " {'_id': ObjectId('65a75f9adf46a6e2e49c8efd'),\n",
      "  'gmaps_latitud': 0,\n",
      "  'gmaps_longitud': 0}]\n"
     ]
    }
   ],
   "source": [
    "# Find the documents with gmaps_longitud = 0 and gmaps_longitud = 0\n",
    "query_lnglat = {\"gmaps_longitud\" : 0,}\n",
    "field_lnglat = {\"gmaps_longitud\" : True, \"gmaps_latitud\" : True,}\n",
    "\n",
    "lnglat = museos.find(query_lnglat, field_lnglat)\n",
    "pprint(list(lnglat))"
   ]
  },
  {
   "cell_type": "code",
   "execution_count": 17,
   "id": "5a3e734a",
   "metadata": {},
   "outputs": [
    {
     "name": "stdout",
     "output_type": "stream",
     "text": [
      "87\n"
     ]
    }
   ],
   "source": [
    "print(museos.count_documents(query_lnglat))"
   ]
  },
  {
   "cell_type": "code",
   "execution_count": 18,
   "id": "95570aa1",
   "metadata": {},
   "outputs": [
    {
     "data": {
      "text/plain": [
       "<pymongo.results.UpdateResult at 0x1c2fc0acdc0>"
      ]
     },
     "execution_count": 18,
     "metadata": {},
     "output_type": "execute_result"
    }
   ],
   "source": [
    "# Update the documents found with \"\"\n",
    "new_lnglat = {\"$set\" : {\"gmaps_longitud\" : \"\", \"gmaps_latitud\" : \"\"}}\n",
    "museos.update_many(query_lnglat, new_lnglat)"
   ]
  },
  {
   "cell_type": "code",
   "execution_count": 19,
   "id": "6319d7f0",
   "metadata": {},
   "outputs": [
    {
     "name": "stdout",
     "output_type": "stream",
     "text": [
      "0\n"
     ]
    }
   ],
   "source": [
    "print(museos.count_documents(query_lnglat))"
   ]
  },
  {
   "cell_type": "code",
   "execution_count": 20,
   "id": "94378a7c",
   "metadata": {},
   "outputs": [],
   "source": [
    "## End of project work - 20240116"
   ]
  },
  {
   "cell_type": "code",
   "execution_count": 8,
   "id": "c2da7648",
   "metadata": {},
   "outputs": [],
   "source": [
    "# Create a dictionary for the new restaurant data\n",
    "new_restaurant = {\n",
    "    \"BusinessName\":\"Penang Flavours\",\n",
    "    \"BusinessType\":\"Restaurant/Cafe/Canteen\",\n",
    "    \"BusinessTypeID\":\"\",\n",
    "    \"AddressLine1\":\"Penang Flavours\",\n",
    "    \"AddressLine2\":\"146A Plumstead Rd\",\n",
    "    \"AddressLine3\":\"London\",\n",
    "    \"AddressLine4\":\"\",\n",
    "    \"PostCode\":\"SE18 7DY\",\n",
    "    \"Phone\":\"\",\n",
    "    \"LocalAuthorityCode\":\"511\",\n",
    "    \"LocalAuthorityName\":\"Greenwich\",\n",
    "    \"LocalAuthorityWebSite\":\"http://www.royalgreenwich.gov.uk\",\n",
    "    \"LocalAuthorityEmailAddress\":\"health@royalgreenwich.gov.uk\",\n",
    "    \"scores\":{\n",
    "        \"Hygiene\":\"\",\n",
    "        \"Structural\":\"\",\n",
    "        \"ConfidenceInManagement\":\"\"\n",
    "    },\n",
    "    \"SchemeType\":\"FHRS\",\n",
    "    \"geocode\":{\n",
    "        \"longitude\":\"0.08384000\",\n",
    "        \"latitude\":\"51.49014200\"\n",
    "    },\n",
    "    \"RightToReply\":\"\",\n",
    "    \"Distance\":4623.9723280747176,\n",
    "    \"NewRatingPending\":True\n",
    "}"
   ]
  },
  {
   "cell_type": "code",
   "execution_count": 9,
   "id": "a6e5cece",
   "metadata": {},
   "outputs": [
    {
     "data": {
      "text/plain": [
       "<pymongo.results.InsertOneResult at 0x27065662d80>"
      ]
     },
     "execution_count": 9,
     "metadata": {},
     "output_type": "execute_result"
    }
   ],
   "source": [
    "# Insert the new restaurant into the collection\n",
    "establishments.insert_one(new_restaurant)"
   ]
  },
  {
   "cell_type": "code",
   "execution_count": 10,
   "id": "63bb10f9",
   "metadata": {},
   "outputs": [
    {
     "name": "stdout",
     "output_type": "stream",
     "text": [
      "[{'AddressLine1': 'Penang Flavours',\n",
      "  'AddressLine2': '146A Plumstead Rd',\n",
      "  'AddressLine3': 'London',\n",
      "  'AddressLine4': '',\n",
      "  'BusinessName': 'Penang Flavours',\n",
      "  'BusinessType': 'Restaurant/Cafe/Canteen',\n",
      "  'BusinessTypeID': '',\n",
      "  'Distance': 4623.972328074718,\n",
      "  'LocalAuthorityCode': '511',\n",
      "  'LocalAuthorityEmailAddress': 'health@royalgreenwich.gov.uk',\n",
      "  'LocalAuthorityName': 'Greenwich',\n",
      "  'LocalAuthorityWebSite': 'http://www.royalgreenwich.gov.uk',\n",
      "  'NewRatingPending': True,\n",
      "  'Phone': '',\n",
      "  'PostCode': 'SE18 7DY',\n",
      "  'RightToReply': '',\n",
      "  'SchemeType': 'FHRS',\n",
      "  '_id': ObjectId('657892f1eaef475f5f2b0424'),\n",
      "  'geocode': {'latitude': '51.49014200', 'longitude': '0.08384000'},\n",
      "  'scores': {'ConfidenceInManagement': '', 'Hygiene': '', 'Structural': ''}}]\n"
     ]
    }
   ],
   "source": [
    "# Check that the new restaurant was inserted\n",
    "pprint(list(establishments.find(new_restaurant)))"
   ]
  },
  {
   "cell_type": "markdown",
   "id": "0ef4395a",
   "metadata": {},
   "source": [
    "2. Find the BusinessTypeID for \"Restaurant/Cafe/Canteen\" and return only the `BusinessTypeID` and `BusinessType` fields."
   ]
  },
  {
   "cell_type": "code",
   "execution_count": 11,
   "id": "93c63829",
   "metadata": {},
   "outputs": [
    {
     "name": "stdout",
     "output_type": "stream",
     "text": [
      "[{'BusinessType': 'Restaurant/Cafe/Canteen',\n",
      "  'BusinessTypeID': 1,\n",
      "  '_id': ObjectId('6578928ee1e40eca6a34db84')},\n",
      " {'BusinessType': 'Restaurant/Cafe/Canteen',\n",
      "  'BusinessTypeID': 1,\n",
      "  '_id': ObjectId('6578928ee1e40eca6a34db85')},\n",
      " {'BusinessType': 'Restaurant/Cafe/Canteen',\n",
      "  'BusinessTypeID': 1,\n",
      "  '_id': ObjectId('6578928ee1e40eca6a34db87')},\n",
      " {'BusinessType': 'Restaurant/Cafe/Canteen',\n",
      "  'BusinessTypeID': 1,\n",
      "  '_id': ObjectId('6578928ee1e40eca6a34db88')},\n",
      " {'BusinessType': 'Restaurant/Cafe/Canteen',\n",
      "  'BusinessTypeID': 1,\n",
      "  '_id': ObjectId('6578928ee1e40eca6a34db8a')}]\n"
     ]
    }
   ],
   "source": [
    "# Find the BusinessTypeID for \"Restaurant/Cafe/Canteen\" and return only the BusinessTypeID and BusinessType fields\n",
    "query_btid = {\"BusinessType\" : \"Restaurant/Cafe/Canteen\",}\n",
    "field_btid = {\"BusinessType\" : True, \"BusinessTypeID\" : True,}\n",
    "limit_btid = 5\n",
    "\n",
    "btid = establishments.find(query_btid, field_btid).limit(limit_btid)\n",
    "pprint(list(btid))"
   ]
  },
  {
   "cell_type": "markdown",
   "id": "4e570caf",
   "metadata": {},
   "source": [
    "3. Update the new restaurant with the `BusinessTypeID` you found."
   ]
  },
  {
   "cell_type": "code",
   "execution_count": 12,
   "id": "7f599f3d",
   "metadata": {},
   "outputs": [
    {
     "data": {
      "text/plain": [
       "<pymongo.results.UpdateResult at 0x27064ac57c0>"
      ]
     },
     "execution_count": 12,
     "metadata": {},
     "output_type": "execute_result"
    }
   ],
   "source": [
    "# Update the new restaurant with the correct BusinessTypeID\n",
    "new_btid = {\"$set\" : {\"BusinessTypeID\" : 1}}\n",
    "establishments.update_one({\"BusinessName\": \"Penang Flavours\"}, new_btid)"
   ]
  },
  {
   "cell_type": "code",
   "execution_count": 13,
   "id": "a6ad16f7",
   "metadata": {},
   "outputs": [
    {
     "name": "stdout",
     "output_type": "stream",
     "text": [
      "[{'AddressLine1': 'Penang Flavours',\n",
      "  'AddressLine2': '146A Plumstead Rd',\n",
      "  'AddressLine3': 'London',\n",
      "  'AddressLine4': '',\n",
      "  'BusinessName': 'Penang Flavours',\n",
      "  'BusinessType': 'Restaurant/Cafe/Canteen',\n",
      "  'BusinessTypeID': 1,\n",
      "  'Distance': 4623.972328074718,\n",
      "  'LocalAuthorityCode': '511',\n",
      "  'LocalAuthorityEmailAddress': 'health@royalgreenwich.gov.uk',\n",
      "  'LocalAuthorityName': 'Greenwich',\n",
      "  'LocalAuthorityWebSite': 'http://www.royalgreenwich.gov.uk',\n",
      "  'NewRatingPending': True,\n",
      "  'Phone': '',\n",
      "  'PostCode': 'SE18 7DY',\n",
      "  'RightToReply': '',\n",
      "  'SchemeType': 'FHRS',\n",
      "  '_id': ObjectId('657892f1eaef475f5f2b0424'),\n",
      "  'geocode': {'latitude': '51.49014200', 'longitude': '0.08384000'},\n",
      "  'scores': {'ConfidenceInManagement': '', 'Hygiene': '', 'Structural': ''}}]\n"
     ]
    }
   ],
   "source": [
    "# Confirm that the new restaurant was updated\n",
    "pprint(list(establishments.find({\"BusinessName\": \"Penang Flavours\"})))"
   ]
  },
  {
   "cell_type": "markdown",
   "id": "67281254",
   "metadata": {},
   "source": [
    "4. The magazine is not interested in any establishments in Dover, so check how many documents contain the Dover Local Authority. Then, remove any establishments within the Dover Local Authority from the database, and check the number of documents to ensure they were deleted."
   ]
  },
  {
   "cell_type": "code",
   "execution_count": 14,
   "id": "69afdeb0",
   "metadata": {},
   "outputs": [
    {
     "data": {
      "text/plain": [
       "39780"
      ]
     },
     "execution_count": 14,
     "metadata": {},
     "output_type": "execute_result"
    }
   ],
   "source": [
    "# Find how many total documents are there in the collection: 39780 \n",
    "establishments.count_documents({})"
   ]
  },
  {
   "cell_type": "code",
   "execution_count": 15,
   "id": "768474a6",
   "metadata": {},
   "outputs": [
    {
     "data": {
      "text/plain": [
       "994"
      ]
     },
     "execution_count": 15,
     "metadata": {},
     "output_type": "execute_result"
    }
   ],
   "source": [
    "# Find how many documents have LocalAuthorityName as \"Dover\": 994 \n",
    "establishments.count_documents({\"LocalAuthorityName\" : \"Dover\"})"
   ]
  },
  {
   "cell_type": "code",
   "execution_count": 16,
   "id": "a11d5f1b",
   "metadata": {},
   "outputs": [
    {
     "data": {
      "text/plain": [
       "<pymongo.results.DeleteResult at 0x270656627c0>"
      ]
     },
     "execution_count": 16,
     "metadata": {},
     "output_type": "execute_result"
    }
   ],
   "source": [
    "# Delete all documents where LocalAuthorityName is \"Dover\"\n",
    "establishments.delete_many({\"LocalAuthorityName\" : \"Dover\"})"
   ]
  },
  {
   "cell_type": "code",
   "execution_count": 17,
   "id": "2a51aba0",
   "metadata": {},
   "outputs": [
    {
     "data": {
      "text/plain": [
       "0"
      ]
     },
     "execution_count": 17,
     "metadata": {},
     "output_type": "execute_result"
    }
   ],
   "source": [
    "# Check if any remaining documents include Dover: 0\n",
    "establishments.count_documents({\"LocalAuthorityName\" : \"Dover\"})"
   ]
  },
  {
   "cell_type": "code",
   "execution_count": 18,
   "id": "97841059",
   "metadata": {},
   "outputs": [
    {
     "data": {
      "text/plain": [
       "38786"
      ]
     },
     "execution_count": 18,
     "metadata": {},
     "output_type": "execute_result"
    }
   ],
   "source": [
    "# Find how many total documents remain in the collection: 38786 \n",
    "establishments.count_documents({})"
   ]
  },
  {
   "cell_type": "code",
   "execution_count": 19,
   "id": "8c356f7b",
   "metadata": {},
   "outputs": [
    {
     "name": "stdout",
     "output_type": "stream",
     "text": [
      "{'AddressLine1': 'East Cliff Pavilion',\n",
      " 'AddressLine2': 'Wear Bay Road',\n",
      " 'AddressLine3': 'Folkestone',\n",
      " 'AddressLine4': 'Kent',\n",
      " 'BusinessName': 'The Pavilion',\n",
      " 'BusinessType': 'Restaurant/Cafe/Canteen',\n",
      " 'BusinessTypeID': 1,\n",
      " 'ChangesByServerID': 0,\n",
      " 'Distance': 4591.765489457773,\n",
      " 'FHRSID': 1043695,\n",
      " 'LocalAuthorityBusinessID': 'PI/000073616',\n",
      " 'LocalAuthorityCode': '188',\n",
      " 'LocalAuthorityEmailAddress': 'foodteam@folkestone-hythe.gov.uk',\n",
      " 'LocalAuthorityName': 'Folkestone and Hythe',\n",
      " 'LocalAuthorityWebSite': 'http://www.folkestone-hythe.gov.uk',\n",
      " 'NewRatingPending': False,\n",
      " 'Phone': '',\n",
      " 'PostCode': 'CT19 6BL',\n",
      " 'RatingDate': '2018-04-04T00:00:00',\n",
      " 'RatingKey': 'fhrs_5_en-gb',\n",
      " 'RatingValue': '5',\n",
      " 'RightToReply': '',\n",
      " 'SchemeType': 'FHRS',\n",
      " '_id': ObjectId('6578928ee1e40eca6a34de6a'),\n",
      " 'geocode': {'latitude': '51.083812', 'longitude': '1.195625'},\n",
      " 'links': [{'href': 'https://api.ratings.food.gov.uk/establishments/1043695',\n",
      "            'rel': 'self'}],\n",
      " 'meta': {'dataSource': None,\n",
      "          'extractDate': '0001-01-01T00:00:00',\n",
      "          'itemCount': 0,\n",
      "          'pageNumber': 0,\n",
      "          'pageSize': 0,\n",
      "          'returncode': None,\n",
      "          'totalCount': 0,\n",
      "          'totalPages': 0},\n",
      " 'scores': {'ConfidenceInManagement': 5, 'Hygiene': 5, 'Structural': 5}}\n"
     ]
    }
   ],
   "source": [
    "# Check that other documents remain with 'find_one'\n",
    "pprint(establishments.find_one())"
   ]
  },
  {
   "attachments": {},
   "cell_type": "markdown",
   "id": "e9f1662d",
   "metadata": {},
   "source": [
    "5. Some of the number values are stored as strings, when they should be stored as numbers."
   ]
  },
  {
   "attachments": {},
   "cell_type": "markdown",
   "id": "c46df2df",
   "metadata": {},
   "source": [
    "Use `update_many` to convert `latitude` and `longitude` to decimal numbers."
   ]
  },
  {
   "cell_type": "code",
   "execution_count": 20,
   "id": "fd4112ce",
   "metadata": {},
   "outputs": [
    {
     "data": {
      "text/plain": [
       "<pymongo.results.UpdateResult at 0x27064ac7c00>"
      ]
     },
     "execution_count": 20,
     "metadata": {},
     "output_type": "execute_result"
    }
   ],
   "source": [
    "# Change the data type from String to Decimal for longitude and latitude\n",
    "establishments.update_many({}, \n",
    "    [{\"$set\" : {\"geocode.latitude\"  : {\"$toDouble\" : \"$geocode.latitude\"}, \n",
    "                \"geocode.longitude\" : {\"$toDouble\" : \"$geocode.longitude\"} }\n",
    "    }]\n",
    ")"
   ]
  },
  {
   "attachments": {},
   "cell_type": "markdown",
   "id": "142e319c",
   "metadata": {},
   "source": [
    "Use `update_many` to convert `RatingValue` to integer numbers."
   ]
  },
  {
   "cell_type": "code",
   "execution_count": 21,
   "id": "04430a5b",
   "metadata": {},
   "outputs": [
    {
     "data": {
      "text/plain": [
       "<pymongo.results.UpdateResult at 0x27065662a80>"
      ]
     },
     "execution_count": 21,
     "metadata": {},
     "output_type": "execute_result"
    }
   ],
   "source": [
    "# Set non 1-5 Rating Values to Null\n",
    "non_ratings = [\"AwaitingInspection\", \"Awaiting Inspection\", \"AwaitingPublication\", \"Pass\", \"Exempt\"]\n",
    "establishments.update_many({\"RatingValue\": {\"$in\": non_ratings}}, [ {'$set':{ \"RatingValue\" : None}} ])"
   ]
  },
  {
   "cell_type": "code",
   "execution_count": 22,
   "id": "92524ccc",
   "metadata": {},
   "outputs": [
    {
     "data": {
      "text/plain": [
       "<pymongo.results.UpdateResult at 0x2706578ba80>"
      ]
     },
     "execution_count": 22,
     "metadata": {},
     "output_type": "execute_result"
    }
   ],
   "source": [
    "# Change the data type from String to Integer for RatingValue\n",
    "establishments.update_many({}, [{\"$set\" : {\"RatingValue\"  : {\"$toInt\" : \"$RatingValue\"}, } }] )"
   ]
  },
  {
   "cell_type": "code",
   "execution_count": 23,
   "id": "0deacaf9",
   "metadata": {},
   "outputs": [
    {
     "name": "stdout",
     "output_type": "stream",
     "text": [
      "[{'RatingValue': 5,\n",
      "  '_id': ObjectId('6578928ee1e40eca6a34de6a'),\n",
      "  'geocode': {'latitude': 51.083812, 'longitude': 1.195625}},\n",
      " {'RatingValue': 5,\n",
      "  '_id': ObjectId('6578928ee1e40eca6a34de6b'),\n",
      "  'geocode': {'latitude': 51.085797, 'longitude': 1.194762}},\n",
      " {'RatingValue': 4,\n",
      "  '_id': ObjectId('6578928ee1e40eca6a34de6c'),\n",
      "  'geocode': {'latitude': 51.086058, 'longitude': 1.196408}},\n",
      " {'RatingValue': 4,\n",
      "  '_id': ObjectId('6578928ee1e40eca6a34de6e'),\n",
      "  'geocode': {'latitude': 51.08084, 'longitude': 1.188537}},\n",
      " {'RatingValue': 5,\n",
      "  '_id': ObjectId('6578928ee1e40eca6a34de6f'),\n",
      "  'geocode': {'latitude': 51.08084, 'longitude': 1.188537}},\n",
      " {'RatingValue': 5,\n",
      "  '_id': ObjectId('6578928ee1e40eca6a34de71'),\n",
      "  'geocode': {'latitude': 51.08084, 'longitude': 1.188537}},\n",
      " {'RatingValue': 5,\n",
      "  '_id': ObjectId('6578928ee1e40eca6a34de72'),\n",
      "  'geocode': {'latitude': 51.0783519967076, 'longitude': 1.18590330311705}},\n",
      " {'RatingValue': 5,\n",
      "  '_id': ObjectId('6578928ee1e40eca6a34de73'),\n",
      "  'geocode': {'latitude': 51.0783519967076, 'longitude': 1.18590330311705}},\n",
      " {'RatingValue': 4,\n",
      "  '_id': ObjectId('6578928ee1e40eca6a34de74'),\n",
      "  'geocode': {'latitude': 51.0783519967076, 'longitude': 1.18590330311705}},\n",
      " {'RatingValue': 5,\n",
      "  '_id': ObjectId('6578928ee1e40eca6a34de75'),\n",
      "  'geocode': {'latitude': 51.08084, 'longitude': 1.188537}}]\n"
     ]
    }
   ],
   "source": [
    "# Check that the coordinates and rating value are now numbers\n",
    "update_revision = establishments.find({}, {\"geocode\" : True, \"RatingValue\" : True}).limit(10)\n",
    "pprint(list(update_revision))"
   ]
  }
 ],
 "metadata": {
  "kernelspec": {
   "display_name": "Python 3 (ipykernel)",
   "language": "python",
   "name": "python3"
  },
  "language_info": {
   "codemirror_mode": {
    "name": "ipython",
    "version": 3
   },
   "file_extension": ".py",
   "mimetype": "text/x-python",
   "name": "python",
   "nbconvert_exporter": "python",
   "pygments_lexer": "ipython3",
   "version": "3.11.7"
  }
 },
 "nbformat": 4,
 "nbformat_minor": 5
}
